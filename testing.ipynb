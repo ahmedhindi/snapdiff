{
 "cells": [
  {
   "cell_type": "code",
   "execution_count": 2,
   "metadata": {},
   "outputs": [
    {
     "name": "stdout",
     "output_type": "stream",
     "text": [
      "Added positional arguments : {3}\n",
      "Result has not changed\n"
     ]
    },
    {
     "data": {
      "text/plain": [
       "6"
      ]
     },
     "execution_count": 2,
     "metadata": {},
     "output_type": "execute_result"
    }
   ],
   "source": [
    "from functools import update_wrapper\n",
    "import os\n",
    "import joblib\n",
    "from difflib import Differ\n",
    "\n",
    "\n",
    "class Snapper:\n",
    "    def __init__(self, func, compare_conds=True):\n",
    "        self.func = func\n",
    "        update_wrapper(self, func)\n",
    "        self.compare_conds = compare_conds\n",
    "        self.dump_conds = not compare_conds\n",
    "        self.snap_dir = 'data/snapper/snapshots'\n",
    "        self.func_name = self.func.__name__\n",
    "        self.snap_file = f'{self.snap_dir}/{self.func_name}.pkl'\n",
    "    def dump(self, result, *args, **kwargs, ):\n",
    "        print(f'Dumping snapshot for {self.func_name}')\n",
    "        snap_shot = f'{self.snap_dir}/{self.func_name}.pkl'\n",
    "        joblib.dump((result, args, kwargs), snap_shot)\n",
    "\n",
    "    def load(self):\n",
    "        snap_shot = f'{self.snap_dir}/{self.func_name}.pkl'\n",
    "        if os.path.exists(snap_shot):\n",
    "            return joblib.load(snap_shot)\n",
    "        else:\n",
    "            print(f'No snapshot found for {self.func_name}')\n",
    "            return 0,0,0\n",
    "    \n",
    "    def compare_args(self, args, old_args):\n",
    "        new_args = set(args)\n",
    "        old_args = set(old_args)\n",
    "        added_args = new_args - old_args\n",
    "        removed_args = old_args - new_args\n",
    "        if added_args:\n",
    "            print(f'Added positional arguments : {added_args}')\n",
    "        if removed_args:\n",
    "            print(f'Removed positional arguments: {removed_args}')\n",
    "        for arg, old_arg in zip(args, old_args):\n",
    "            if arg != old_arg:\n",
    "                return False\n",
    "        return True\n",
    "    \n",
    "    def compare_kwargs(self, kwargs, old_kwargs):\n",
    "        new_kws = set(kwargs.keys())\n",
    "        old_kws = set(old_kwargs.keys())\n",
    "        added_kws = new_kws - old_kws\n",
    "        removed_kws = old_kws - new_kws\n",
    "\n",
    "        if added_kws:\n",
    "            print(f'Added keyword arguments : {added_kws}')\n",
    "        \n",
    "        if removed_kws:\n",
    "            print(f'Removed keyword arguments: {removed_kws}')\n",
    "\n",
    "\n",
    "        for key, value in kwargs.items():\n",
    "            if key not in old_kwargs:\n",
    "                return False\n",
    "            else:\n",
    "                if value != old_kwargs[key]:\n",
    "                    return False\n",
    "        return True\n",
    "    \n",
    "    def compare_result(self, result, old_result):\n",
    "        return Differ().compare(result, old_result)\n",
    "\n",
    "    def __call__(self, *args, **kwargs):\n",
    "        result = self.func(*args, **kwargs)\n",
    "        if self.compare_conds:\n",
    "            old_result, old_args, old_kwargs = self.load()\n",
    "            if old_result == 0 and old_args == 0 and old_kwargs == 0:\n",
    "                print('No snapshot found')\n",
    "        \n",
    "        if self.dump_conds:\n",
    "            self.dump(result, *args, **kwargs)\n",
    "        \n",
    "        if self.compare_conds:\n",
    "            if not self.compare_args(args, old_args):\n",
    "                print('Arguments have changed')\n",
    "            if not self.compare_kwargs(kwargs, old_kwargs):\n",
    "                print('Keyword arguments have changed')\n",
    "            if not self.compare_result(result, old_result):\n",
    "                print('Result has changed')\n",
    "            else:\n",
    "                print('Result has not changed')\n",
    "        \n",
    "        return result\n",
    "  \n",
    "        \n",
    "    def __repr__(self):\n",
    "        return self.func.__repr__()\n",
    "\n",
    "\n",
    "def snapper(compare_conds=True):\n",
    "    def decorator(func):\n",
    "        return Snapper(func, compare_conds)\n",
    "    return decorator\n",
    "\n",
    "\n",
    "\n",
    "\n",
    "\n",
    "\n",
    "# Example usage of the Snapper decorator\n",
    "@snapper(compare_conds=True)\n",
    "def example_function(a, b, f):\n",
    "    c = a + b\n",
    "    d = c * 2\n",
    "    return d\n",
    "\n",
    "example_function(1, 2, 3)  # Call the function with arguments\n"
   ]
  },
  {
   "cell_type": "code",
   "execution_count": 4,
   "metadata": {},
   "outputs": [],
   "source": [
    "t1 = {'a': 1, 'b': 2, 'f': 3}\n",
    "t2 = {'a': 1, 'b': 2, 'f': 3}\n"
   ]
  },
  {
   "cell_type": "code",
   "execution_count": null,
   "metadata": {},
   "outputs": [],
   "source": []
  },
  {
   "cell_type": "code",
   "execution_count": 3,
   "metadata": {},
   "outputs": [],
   "source": [
    "import pandas as pd\n",
    "\n",
    "d1 = {\n",
    "    'a': [1, 2, 3],\n",
    "    'b': [4, 5, 6],\n",
    "    'c': [7, 8, 9]\n",
    "}\n",
    "\n",
    "d2 = {\n",
    "    'a': [1, 2, 3],\n",
    "    'b': [4, 5, 6],\n",
    "    'c': ['7', '8', '10']\n",
    "}\n",
    "df1 = pd.DataFrame(d1)\n",
    "df2 = pd.DataFrame(d2)"
   ]
  },
  {
   "cell_type": "code",
   "execution_count": 12,
   "metadata": {},
   "outputs": [
    {
     "data": {
      "text/plain": [
       "{}"
      ]
     },
     "execution_count": 12,
     "metadata": {},
     "output_type": "execute_result"
    }
   ],
   "source": [
    "\n",
    "from deepdiff import DeepDiff\n",
    "\n",
    "DeepDiff(5, 5)"
   ]
  },
  {
   "cell_type": "code",
   "execution_count": 13,
   "metadata": {},
   "outputs": [],
   "source": [
    "if {}:\n",
    "    print('True')"
   ]
  },
  {
   "cell_type": "code",
   "execution_count": 5,
   "metadata": {},
   "outputs": [
    {
     "ename": "AssertionError",
     "evalue": "Attributes of DataFrame.iloc[:, 2] (column name=\"c\") are different\n\nAttribute \"dtype\" are different\n[left]:  int64\n[right]: object",
     "output_type": "error",
     "traceback": [
      "\u001b[0;31m---------------------------------------------------------------------------\u001b[0m",
      "\u001b[0;31mAssertionError\u001b[0m                            Traceback (most recent call last)",
      "\u001b[0;32m/tmp/ipykernel_52066/2551017844.py\u001b[0m in \u001b[0;36m<module>\u001b[0;34m\u001b[0m\n\u001b[0;32m----> 1\u001b[0;31m \u001b[0mpd\u001b[0m\u001b[0;34m.\u001b[0m\u001b[0mtesting\u001b[0m\u001b[0;34m.\u001b[0m\u001b[0massert_frame_equal\u001b[0m\u001b[0;34m(\u001b[0m\u001b[0mdf1\u001b[0m\u001b[0;34m,\u001b[0m \u001b[0mdf2\u001b[0m\u001b[0;34m)\u001b[0m\u001b[0;34m\u001b[0m\u001b[0;34m\u001b[0m\u001b[0m\n\u001b[0m",
      "    \u001b[0;31m[... skipping hidden 3 frame]\u001b[0m\n",
      "\u001b[0;32m~/.local/lib/python3.10/site-packages/pandas/_testing/asserters.py\u001b[0m in \u001b[0;36mraise_assert_detail\u001b[0;34m(obj, message, left, right, diff, first_diff, index_values)\u001b[0m\n\u001b[1;32m    612\u001b[0m         \u001b[0mmsg\u001b[0m \u001b[0;34m+=\u001b[0m \u001b[0;34mf\"\\n{first_diff}\"\u001b[0m\u001b[0;34m\u001b[0m\u001b[0;34m\u001b[0m\u001b[0m\n\u001b[1;32m    613\u001b[0m \u001b[0;34m\u001b[0m\u001b[0m\n\u001b[0;32m--> 614\u001b[0;31m     \u001b[0;32mraise\u001b[0m \u001b[0mAssertionError\u001b[0m\u001b[0;34m(\u001b[0m\u001b[0mmsg\u001b[0m\u001b[0;34m)\u001b[0m\u001b[0;34m\u001b[0m\u001b[0;34m\u001b[0m\u001b[0m\n\u001b[0m\u001b[1;32m    615\u001b[0m \u001b[0;34m\u001b[0m\u001b[0m\n\u001b[1;32m    616\u001b[0m \u001b[0;34m\u001b[0m\u001b[0m\n",
      "\u001b[0;31mAssertionError\u001b[0m: Attributes of DataFrame.iloc[:, 2] (column name=\"c\") are different\n\nAttribute \"dtype\" are different\n[left]:  int64\n[right]: object"
     ]
    }
   ],
   "source": [
    "pd.testing.assert_frame_equal(df1, df2)"
   ]
  },
  {
   "cell_type": "code",
   "execution_count": 14,
   "metadata": {},
   "outputs": [],
   "source": [
    "def df_compare(df1, df2):\n",
    "    pd.testing.assert_frame_equal(df1, df2)\n",
    "\n",
    "def compare_dicts(dict1, dict2):\n",
    "    for key in dict1.keys():\n",
    "        if dict1[key] != dict2[key]:\n",
    "            return False\n",
    "    return True\n",
    "\n",
    "\n",
    "a = {\n",
    "    'pandas.core.frame.DataFrame': df_compare,\n",
    "    dict: compare_dicts\n",
    "}   "
   ]
  },
  {
   "cell_type": "code",
   "execution_count": 24,
   "metadata": {},
   "outputs": [
    {
     "name": "stdout",
     "output_type": "stream",
     "text": [
      "Defaulting to user installation because normal site-packages is not writeable\n",
      "Collecting astor\n",
      "  Using cached astor-0.8.1-py2.py3-none-any.whl (27 kB)\n",
      "Installing collected packages: astor\n",
      "Successfully installed astor-0.8.1\n"
     ]
    }
   ],
   "source": [
    "! pip install astor"
   ]
  },
  {
   "cell_type": "code",
   "execution_count": 29,
   "metadata": {},
   "outputs": [
    {
     "name": "stdout",
     "output_type": "stream",
     "text": [
      "Decorator 'my_decorator' added to all functions in example.py\n",
      "Decorator 'snapper(compare_conds=True)' added to all functions in example.py\n"
     ]
    }
   ],
   "source": [
    "import ast\n",
    "import astor\n",
    "\n",
    "def add_decorator_to_functions(file_path, decorator_name, decorator_params=None):\n",
    "    # Read the file content\n",
    "    with open(file_path, \"r\") as file:\n",
    "        file_content = file.read()\n",
    "\n",
    "    # Parse the file content into an AST\n",
    "    tree = ast.parse(file_content)\n",
    "\n",
    "    # Build the decorator string with or without parameters\n",
    "    if decorator_params:\n",
    "        decorator_with_params = f\"{decorator_name}({', '.join(decorator_params)})\"\n",
    "    else:\n",
    "        decorator_with_params = f\"{decorator_name}\"\n",
    "\n",
    "    # Define the decorator node\n",
    "    decorator_node = ast.parse(decorator_with_params).body[0].value\n",
    "\n",
    "    # Loop through all the nodes in the AST and find function definitions\n",
    "    for node in ast.walk(tree):\n",
    "        if isinstance(node, ast.FunctionDef):  # Check if it's a function\n",
    "            # Add the decorator to the function\n",
    "            node.decorator_list.append(decorator_node)\n",
    "\n",
    "    # Convert the modified AST back to Python code\n",
    "    modified_code = astor.to_source(tree)\n",
    "\n",
    "    # Write the modified code back to the file (or you could return it)\n",
    "    with open(file_path, \"w\") as file:\n",
    "        file.write(modified_code)\n",
    "\n",
    "    print(f\"Decorator '{decorator_name}' added to all functions in {file_path}\")\n",
    "\n",
    "\n",
    "# Example usage with params\n",
    "add_decorator_to_functions(\n",
    "    file_path=\"example.py\", \n",
    "    decorator_name=\"snapper(compare_conds=True)\", \n",
    "    # decorator_params=[\"param1\", \"param2\"]\n",
    ")\n"
   ]
  },
  {
   "cell_type": "code",
   "execution_count": null,
   "metadata": {},
   "outputs": [],
   "source": []
  }
 ],
 "metadata": {
  "kernelspec": {
   "display_name": "Python 3",
   "language": "python",
   "name": "python3"
  },
  "language_info": {
   "codemirror_mode": {
    "name": "ipython",
    "version": 3
   },
   "file_extension": ".py",
   "mimetype": "text/x-python",
   "name": "python",
   "nbconvert_exporter": "python",
   "pygments_lexer": "ipython3",
   "version": "3.10.12"
  }
 },
 "nbformat": 4,
 "nbformat_minor": 2
}
