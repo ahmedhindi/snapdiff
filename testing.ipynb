{
 "cells": [
  {
   "cell_type": "code",
   "execution_count": 1,
   "metadata": {},
   "outputs": [],
   "source": [
    "# reload python modules\n",
    "%load_ext autoreload\n",
    "%autoreload 2"
   ]
  },
  {
   "cell_type": "code",
   "execution_count": 2,
   "metadata": {},
   "outputs": [],
   "source": [
    "import pandas as pd\n",
    "from snapdiff.snapper import snapper"
   ]
  },
  {
   "cell_type": "code",
   "execution_count": 13,
   "metadata": {},
   "outputs": [],
   "source": [
    "@snapper(mode='diff')\n",
    "def function(s, x, y):\n",
    "    return x + y + s"
   ]
  },
  {
   "cell_type": "code",
   "execution_count": 15,
   "metadata": {},
   "outputs": [
    {
     "data": {
      "text/plain": [
       "6"
      ]
     },
     "execution_count": 15,
     "metadata": {},
     "output_type": "execute_result"
    }
   ],
   "source": [
    "function(1, 2, 3)"
   ]
  },
  {
   "cell_type": "code",
   "execution_count": 11,
   "metadata": {},
   "outputs": [],
   "source": [
    "from deepdiff import DeepDiff, Delta"
   ]
  },
  {
   "cell_type": "code",
   "execution_count": 16,
   "metadata": {},
   "outputs": [],
   "source": [
    "import uuid"
   ]
  },
  {
   "cell_type": "code",
   "execution_count": 20,
   "metadata": {},
   "outputs": [
    {
     "data": {
      "text/plain": [
       "UUID('c5eda80d-9d38-41cd-a447-a70a10275678')"
      ]
     },
     "execution_count": 20,
     "metadata": {},
     "output_type": "execute_result"
    }
   ],
   "source": [
    "uuid.uuid4()"
   ]
  },
  {
   "cell_type": "code",
   "execution_count": 32,
   "metadata": {},
   "outputs": [],
   "source": [
    "aa = {'a': 1, 'b': 2, 'c': 3, 'd': 4, 'e': 5}\n",
    "bb = aa.copy()\n",
    "bb['b'] = 33\n",
    "aadf = pd.DataFrame(aa, index=[0])\n",
    "bbdf = pd.DataFrame(bb, index=[0])\n",
    "\n",
    "\n",
    "diff = DeepDiff(aadf, bbdf)\n"
   ]
  },
  {
   "cell_type": "code",
   "execution_count": 37,
   "metadata": {},
   "outputs": [],
   "source": [
    "import inspect"
   ]
  },
  {
   "cell_type": "code",
   "execution_count": 39,
   "metadata": {},
   "outputs": [],
   "source": [
    "def function(s, x, y):\n",
    "    return x + y + s"
   ]
  },
  {
   "cell_type": "code",
   "execution_count": 40,
   "metadata": {},
   "outputs": [
    {
     "data": {
      "text/plain": [
       "'/tmp/ipykernel_326473/156289867.py'"
      ]
     },
     "execution_count": 40,
     "metadata": {},
     "output_type": "execute_result"
    }
   ],
   "source": [
    "inspect.getfile(function)"
   ]
  },
  {
   "cell_type": "code",
   "execution_count": 34,
   "metadata": {},
   "outputs": [
    {
     "data": {
      "text/plain": [
       "{}"
      ]
     },
     "execution_count": 34,
     "metadata": {},
     "output_type": "execute_result"
    }
   ],
   "source": [
    "a.to_dict()"
   ]
  },
  {
   "cell_type": "code",
   "execution_count": 12,
   "metadata": {},
   "outputs": [],
   "source": [
    "from snapdiff.utils import get_normalized_code"
   ]
  },
  {
   "cell_type": "code",
   "execution_count": 21,
   "metadata": {},
   "outputs": [],
   "source": [
    "import ast\n",
    "import hashlib\n",
    "import inspect\n",
    "\n",
    "class NormalizeNames(ast.NodeTransformer):\n",
    "    def __init__(self):\n",
    "        self.func_name_counter = 0\n",
    "        self.var_name_counter = 0\n",
    "        self.func_name_map = {}\n",
    "        self.var_name_map = {}\n",
    "\n",
    "    def visit_FunctionDef(self, node):\n",
    "        # Assign a generic name to function names\n",
    "        if node.name not in self.func_name_map:\n",
    "            self.func_name_map[node.name] = f\"func_{self.func_name_counter}\"\n",
    "            self.func_name_counter += 1\n",
    "        node.name = self.func_name_map[node.name]\n",
    "        # Continue transforming function arguments and body\n",
    "        self.generic_visit(node)\n",
    "        return node\n",
    "\n",
    "    def visit_Name(self, node):\n",
    "        # Assign generic names to variable names used in the function\n",
    "        if isinstance(node.ctx, ast.Store) or isinstance(node.ctx, ast.Load):\n",
    "            if node.id not in self.var_name_map:\n",
    "                self.var_name_map[node.id] = f\"var_{self.var_name_counter}\"\n",
    "                self.var_name_counter += 1\n",
    "            node.id = self.var_name_map[node.id]\n",
    "        return node\n",
    "\n",
    "def get_normalized_code(func):\n",
    "    # Get the source code of the function\n",
    "    source_code = inspect.getsource(func)\n",
    "    # Parse the source code into an Abstract Syntax Tree\n",
    "    parsed_code = ast.parse(source_code)\n",
    "    # Normalize function and variable names\n",
    "    normalizer = NormalizeNames()\n",
    "    normalized_tree = normalizer.visit(parsed_code)\n",
    "    # Convert the normalized AST back to source code (as a string) for hashing\n",
    "    normalized_code = ast.dump(normalized_tree, annotate_fields=False)\n",
    "    # Hash the normalized code\n",
    "    code_hash = hashlib.sha256(normalized_code.encode()).hexdigest()\n",
    "    return code_hash, normalized_code"
   ]
  },
  {
   "cell_type": "code",
   "execution_count": 22,
   "metadata": {},
   "outputs": [],
   "source": [
    "def buble_sort(l):\n",
    "    n = len(l)\n",
    "    for i in range(n):\n",
    "        for j in range(0, n-i-1):\n",
    "            if l[j] > l[j+1]:\n",
    "                l[j], l[j+1] = l[j+1], l[j]\n",
    "    return l"
   ]
  },
  {
   "cell_type": "code",
   "execution_count": 23,
   "metadata": {},
   "outputs": [],
   "source": [
    "hash_, norm = get_normalized_code(buble_sort)"
   ]
  },
  {
   "cell_type": "code",
   "execution_count": 25,
   "metadata": {},
   "outputs": [],
   "source": [
    "def buble_sort2(l):\n",
    "    n = len(l)\n",
    "    for i in range(n):\n",
    "        for j in range(0, n-i-1):\n",
    "            if l[j] > l[j+1]:\n",
    "                l[j], l[j+1] = l[j+1], l[j]\n",
    "    return l"
   ]
  },
  {
   "cell_type": "code",
   "execution_count": 26,
   "metadata": {},
   "outputs": [],
   "source": [
    "hash_2, norm2 = get_normalized_code(buble_sort2)"
   ]
  },
  {
   "cell_type": "code",
   "execution_count": 34,
   "metadata": {},
   "outputs": [
    {
     "name": "stdout",
     "output_type": "stream",
     "text": [
      "Module([FunctionDef('func_0', arguments([], [arg('l')], kwonlyargs=[], kw_defaults=[], defaults=[]), [Assign([Name('var_0', Store())], Call(Name('var_1', Load()), [Name('var_2', Load())], [])), For(Name('var_3', Store()), Call(Name('var_4', Load()), [Name('var_0', Load())], []), [For(Name('var_5', Store()), Call(Name('var_4', Load()), [Constant(0), BinOp(BinOp(Name('var_0', Load()), Sub(), Name('var_3', Load())), Sub(), Constant(1))], []), [If(Compare(Subscript(Name('var_2', Load()), Name('var_5', Load()), Load()), [Gt()], [Subscript(Name('var_2', Load()), BinOp(Name('var_5', Load()), Add(), Constant(1)), Load())]), [Assign([Tuple([Subscript(Name('var_2', Load()), Name('var_5', Load()), Store()), Subscript(Name('var_2', Load()), BinOp(Name('var_5', Load()), Add(), Constant(1)), Store())], Store())], Tuple([Subscript(Name('var_2', Load()), BinOp(Name('var_5', Load()), Add(), Constant(1)), Load()), Subscript(Name('var_2', Load()), Name('var_5', Load()), Load())], Load()))], [])], [])], []), Return(Name('var_2', Load()))], [])], [])\n"
     ]
    }
   ],
   "source": [
    "print(norm2)"
   ]
  },
  {
   "cell_type": "code",
   "execution_count": null,
   "metadata": {},
   "outputs": [],
   "source": []
  },
  {
   "cell_type": "code",
   "execution_count": 49,
   "metadata": {},
   "outputs": [],
   "source": [
    "import inspect\n",
    "import ast\n",
    "import hashlib\n",
    "import yaml\n",
    "import os\n",
    "import json\n",
    "from deepdiff import DeepDiff\n",
    "import astor\n",
    "\n",
    "\n",
    "def get_normalized_code(func):\n",
    "    # get the source code of the function\n",
    "    source_code = inspect.getsource(func)\n",
    "    # parse the source code into an Abstract Syntax Tree\n",
    "    parsed_code = ast.parse(source_code)\n",
    "    # convert the Abstract Syntax Tree back to normalized source code\n",
    "    normalized_code = ast.dump(parsed_code, annotate_fields=True, indent=4)\n",
    "    # hash the normalized code\n",
    "    formatted_code = astor.to_source(parsed_code)\n",
    "    code_hash = hashlib.sha256(normalized_code.encode()).hexdigest()\n",
    "    return code_hash, normalized_code, formatted_code\n"
   ]
  },
  {
   "cell_type": "code",
   "execution_count": 50,
   "metadata": {},
   "outputs": [
    {
     "name": "stdout",
     "output_type": "stream",
     "text": [
      "Module(\n",
      "    body=[\n",
      "        FunctionDef(\n",
      "            name='function',\n",
      "            args=arguments(\n",
      "                posonlyargs=[],\n",
      "                args=[\n",
      "                    arg(arg='s'),\n",
      "                    arg(arg='x'),\n",
      "                    arg(arg='y')],\n",
      "                kwonlyargs=[],\n",
      "                kw_defaults=[],\n",
      "                defaults=[]),\n",
      "            body=[\n",
      "                Expr(\n",
      "                    value=Constant(value='asdfasdf')),\n",
      "                Return(\n",
      "                    value=BinOp(\n",
      "                        left=BinOp(\n",
      "                            left=Name(id='x', ctx=Load()),\n",
      "                            op=Add(),\n",
      "                            right=Name(id='y', ctx=Load())),\n",
      "                        op=Add(),\n",
      "                        right=Call(\n",
      "                            func=Name(id='str', ctx=Load()),\n",
      "                            args=[\n",
      "                                Name(id='s', ctx=Load())],\n",
      "                            keywords=[])))],\n",
      "            decorator_list=[\n",
      "                Call(\n",
      "                    func=Name(id='snapper', ctx=Load()),\n",
      "                    args=[],\n",
      "                    keywords=[\n",
      "                        keyword(\n",
      "                            arg='compare_conds',\n",
      "                            value=Constant(value=1)),\n",
      "                        keyword(\n",
      "                            arg='diff_func',\n",
      "                            value=Constant(value=None))])])],\n",
      "    type_ignores=[])\n"
     ]
    }
   ],
   "source": [
    "get_normalized_code(function)[1])"
   ]
  },
  {
   "cell_type": "code",
   "execution_count": 52,
   "metadata": {},
   "outputs": [
    {
     "data": {
      "text/plain": [
       "{'values_changed': {'root': {'new_value': 'sdfg', 'old_value': 'asdf'}}}"
      ]
     },
     "execution_count": 52,
     "metadata": {},
     "output_type": "execute_result"
    }
   ],
   "source": [
    "DeepDiff('asdf', 'sdfg', )"
   ]
  },
  {
   "cell_type": "code",
   "execution_count": 55,
   "metadata": {},
   "outputs": [],
   "source": [
    "i = 0\n",
    "a = i if i else (2 if 2==2 else 3)"
   ]
  },
  {
   "cell_type": "code",
   "execution_count": 56,
   "metadata": {},
   "outputs": [
    {
     "data": {
      "text/plain": [
       "2"
      ]
     },
     "execution_count": 56,
     "metadata": {},
     "output_type": "execute_result"
    }
   ],
   "source": [
    "a"
   ]
  },
  {
   "cell_type": "code",
   "execution_count": null,
   "metadata": {},
   "outputs": [],
   "source": [
    "# 1 - the function name changed but the hash is the same\n",
    "# 2 - the function name changed and the hash is different\n",
    "# 3 - the function name is the same and the hash is different\n",
    "# 4 - the function name is the same and the hash is the same"
   ]
  },
  {
   "cell_type": "code",
   "execution_count": null,
   "metadata": {},
   "outputs": [],
   "source": []
  },
  {
   "cell_type": "code",
   "execution_count": 21,
   "metadata": {},
   "outputs": [],
   "source": [
    "import json\n",
    "import uuid\n",
    "\n",
    "ID_FILE = \"snapper_ids.json\"\n",
    "\n",
    "# Load ID mappings from a file\n",
    "def load_id_map():\n",
    "    try:\n",
    "        with open(ID_FILE, \"r\") as f:\n",
    "            return json.load(f)\n",
    "    except FileNotFoundError:\n",
    "        return {}\n",
    "\n",
    "# Save ID mappings to a file\n",
    "def save_id_map(id_map):\n",
    "    with open(ID_FILE, \"w\") as f:\n",
    "        json.dump(id_map, f)\n",
    "\n",
    "# Decorator function to automatically assign a unique ID to each function\n",
    "def snapper():\n",
    "    def decorator(func):\n",
    "        id_map = load_id_map()\n",
    "\n",
    "        # If the function has been wrapped before, reuse its ID\n",
    "        if func.__name__ in id_map:\n",
    "            unique_id = id_map[func.__name__]\n",
    "        else:\n",
    "            # Generate a new ID for a new function\n",
    "            unique_id = str(uuid.uuid4())\n",
    "            id_map[func.__name__] = unique_id\n",
    "            save_id_map(id_map)  # Save the updated mapping\n",
    "\n",
    "        # Assign the ID to the function (or Snapper instance)\n",
    "        func._snapper_id = unique_id\n",
    "\n",
    "        # Wrap the function as needed here\n",
    "        def wrapper(*args, **kwargs):\n",
    "            print(f\"Function {func.__name__} has ID: {func._snapper_id}\")\n",
    "            return func(*args, **kwargs)\n",
    "\n",
    "        return wrapper\n",
    "\n",
    "    return decorator\n",
    "\n"
   ]
  },
  {
   "cell_type": "code",
   "execution_count": 35,
   "metadata": {},
   "outputs": [],
   "source": [
    "\n",
    "# Example usage\n",
    "@snapper()\n",
    "def func3(x, y, z):\n",
    "    return x + y + z\n"
   ]
  },
  {
   "cell_type": "code",
   "execution_count": 36,
   "metadata": {},
   "outputs": [
    {
     "name": "stdout",
     "output_type": "stream",
     "text": [
      "Function func3 has ID: a3d671bc-ede7-4653-914a-5f41df6b2b64\n"
     ]
    },
    {
     "data": {
      "text/plain": [
       "6"
      ]
     },
     "execution_count": 36,
     "metadata": {},
     "output_type": "execute_result"
    }
   ],
   "source": [
    "\n",
    "# Run functions to see the ID assignment\n",
    "func3(1, 2, 3)  # This should print the ID for func1"
   ]
  },
  {
   "cell_type": "code",
   "execution_count": 24,
   "metadata": {},
   "outputs": [
    {
     "name": "stdout",
     "output_type": "stream",
     "text": [
      "Function func1 has ID: fe79bafc-1880-4ff8-8c24-9a69973fb80e\n"
     ]
    },
    {
     "data": {
      "text/plain": [
       "3"
      ]
     },
     "execution_count": 24,
     "metadata": {},
     "output_type": "execute_result"
    }
   ],
   "source": [
    "\n"
   ]
  },
  {
   "cell_type": "code",
   "execution_count": 25,
   "metadata": {},
   "outputs": [
    {
     "name": "stdout",
     "output_type": "stream",
     "text": [
      "Function func2 has ID: d543b916-a0a7-49e9-b2d1-a859aec8f11e\n"
     ]
    },
    {
     "data": {
      "text/plain": [
       "12"
      ]
     },
     "execution_count": 25,
     "metadata": {},
     "output_type": "execute_result"
    }
   ],
   "source": [
    "\n",
    "func2(3, 4)  # This should print the same ID if it's logically the same function\n"
   ]
  },
  {
   "cell_type": "code",
   "execution_count": null,
   "metadata": {},
   "outputs": [],
   "source": []
  },
  {
   "cell_type": "code",
   "execution_count": null,
   "metadata": {},
   "outputs": [],
   "source": []
  }
 ],
 "metadata": {
  "kernelspec": {
   "display_name": "Python 3",
   "language": "python",
   "name": "python3"
  },
  "language_info": {
   "codemirror_mode": {
    "name": "ipython",
    "version": 3
   },
   "file_extension": ".py",
   "mimetype": "text/x-python",
   "name": "python",
   "nbconvert_exporter": "python",
   "pygments_lexer": "ipython3",
   "version": "3.10.12"
  }
 },
 "nbformat": 4,
 "nbformat_minor": 2
}
