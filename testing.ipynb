{
 "cells": [
  {
   "cell_type": "code",
   "execution_count": 42,
   "metadata": {},
   "outputs": [
    {
     "name": "stdout",
     "output_type": "stream",
     "text": [
      "The autoreload extension is already loaded. To reload it, use:\n",
      "  %reload_ext autoreload\n"
     ]
    }
   ],
   "source": [
    "# reload python modules\n",
    "%load_ext autoreload\n",
    "%autoreload 2"
   ]
  },
  {
   "cell_type": "code",
   "execution_count": 43,
   "metadata": {},
   "outputs": [],
   "source": [
    "import pandas as pd\n",
    "from snapdiff.snapper import snapper"
   ]
  },
  {
   "cell_type": "code",
   "execution_count": 45,
   "metadata": {},
   "outputs": [],
   "source": [
    "from snapdiff.utils import get_path, get_normalized_code"
   ]
  },
  {
   "cell_type": "code",
   "execution_count": 46,
   "metadata": {},
   "outputs": [
    {
     "data": {
      "text/plain": [
       "'snapdiff/utils.py'"
      ]
     },
     "execution_count": 46,
     "metadata": {},
     "output_type": "execute_result"
    }
   ],
   "source": [
    "get_path(get_normalized_code)"
   ]
  },
  {
   "cell_type": "code",
   "execution_count": 13,
   "metadata": {},
   "outputs": [],
   "source": [
    "@snapper(mode='diff')\n",
    "def function(s, x, y):\n",
    "    return x + y + s"
   ]
  },
  {
   "cell_type": "code",
   "execution_count": 15,
   "metadata": {},
   "outputs": [
    {
     "data": {
      "text/plain": [
       "6"
      ]
     },
     "execution_count": 15,
     "metadata": {},
     "output_type": "execute_result"
    }
   ],
   "source": [
    "function(1, 2, 3)"
   ]
  },
  {
   "cell_type": "code",
   "execution_count": 6,
   "metadata": {},
   "outputs": [],
   "source": [
    "from deepdiff import DeepDiff, Delta"
   ]
  },
  {
   "cell_type": "code",
   "execution_count": 7,
   "metadata": {},
   "outputs": [],
   "source": [
    "from pathlib import Path"
   ]
  },
  {
   "cell_type": "code",
   "execution_count": 8,
   "metadata": {},
   "outputs": [],
   "source": [
    "pathone = Path('snapdiff/snapshots/function/1/2/3/1.json')\n",
    "pathtwo = Path('snapdiff/snapshots/function/1/2/3/1.json')"
   ]
  },
  {
   "cell_type": "code",
   "execution_count": 9,
   "metadata": {},
   "outputs": [
    {
     "data": {
      "text/plain": [
       "'snapdiff/snapshots/function/1/2/3/1.json'"
      ]
     },
     "execution_count": 9,
     "metadata": {},
     "output_type": "execute_result"
    }
   ],
   "source": [
    "str(pathone)"
   ]
  },
  {
   "cell_type": "code",
   "execution_count": 10,
   "metadata": {},
   "outputs": [
    {
     "data": {
      "text/plain": [
       "True"
      ]
     },
     "execution_count": 10,
     "metadata": {},
     "output_type": "execute_result"
    }
   ],
   "source": [
    "pathone == pathtwo"
   ]
  },
  {
   "cell_type": "code",
   "execution_count": 11,
   "metadata": {},
   "outputs": [
    {
     "data": {
      "text/plain": [
       "<Delta: {'type_changes': {'root[2]': {'old_type': <class 'int'>, 'new_type': <class 'pathlib.PosixPath'>,...}>"
      ]
     },
     "execution_count": 11,
     "metadata": {},
     "output_type": "execute_result"
    }
   ],
   "source": [
    "pathone = Path('snapdiff/snapshots/function/1/2/3/1.json')\n",
    "pathtwo = Path('snapdiff/snapshots/function/1/2/3/1.json')\n",
    "b = DeepDiff([2,[pathone, 1,6], 1,2,8], [0, [pathtwo, 1,6],pathtwo,2,3])\n",
    "Delta(b)"
   ]
  },
  {
   "cell_type": "code",
   "execution_count": 12,
   "metadata": {},
   "outputs": [],
   "source": [
    "from datadiff import diff"
   ]
  },
  {
   "cell_type": "code",
   "execution_count": 33,
   "metadata": {},
   "outputs": [
    {
     "name": "stdout",
     "output_type": "stream",
     "text": [
      "{'type_changes': {'root[0]': {'old_type': <class 'pathlib.PosixPath'>, 'new_type': <class 'int'>, 'old_value': PosixPath('snapdiff/snapshots/function/1/2/3/1.json'), 'new_value': 1}}}\n"
     ]
    }
   ],
   "source": [
    "from deepdiff import DeepDiff\n",
    "from deepdiff.operator import BaseOperator\n",
    "from pathlib import Path\n",
    "\n",
    "class PathInsensitiveOperator(BaseOperator):\n",
    "    def match(self, level):\n",
    "        # Only match when both objects are Path instances\n",
    "        return isinstance(level.t1, Path) and isinstance(level.t2, Path)\n",
    "    \n",
    "    def give_up_diffing(self, level, diff_instance):\n",
    "        # Compare paths as lowercase resolved strings for insensitivity\n",
    "        path1, path2 = map(lambda p: p.resolve().as_posix().lower(), (level.t1, level.t2))\n",
    "        return path1 == path2  # Return True if paths are considered the same\n",
    "\n",
    "# Instantiate the operator and use it in DeepDiff\n",
    "path_operator = PathInsensitiveOperator()\n",
    "diff = DeepDiff([pathtwo, 5, 7], [1, 5,7],\n",
    "    custom_operators=[PathInsensitiveOperator()]\n",
    ")\n",
    "print(diff)  # Should show no difference if paths match under custom comparison\n"
   ]
  },
  {
   "cell_type": "code",
   "execution_count": 43,
   "metadata": {},
   "outputs": [
    {
     "name": "stdout",
     "output_type": "stream",
     "text": [
      "{'unprocessed': [\"root['file_path']: /users/test/file.txt and /users/test/file.txt\"]}\n"
     ]
    }
   ],
   "source": [
    "from deepdiff import DeepDiff\n",
    "from deepdiff.operator import BaseOperator\n",
    "from pathlib import Path\n",
    "\n",
    "class PathComparisonOperator(BaseOperator):\n",
    "    def match(self, level):\n",
    "        # Ensure both objects at this level are Path instances\n",
    "        return isinstance(level.t1, Path) and isinstance(level.t2, Path)\n",
    "    \n",
    "    def give_up_diffing(self, level, diff_instance):\n",
    "        # Convert paths to lowercase and resolve for comparison\n",
    "        path1, path2 = map(lambda p: p.resolve().as_posix().lower(), (level.t1, level.t2))\n",
    "        if path1 != path2:\n",
    "            # Use custom_report_result to add a custom difference entry\n",
    "            diff_instance.custom_report_result(\n",
    "                \"path_difference\", \n",
    "                level, \n",
    "                {\"old_value\": path1, \"new_value\": path2}\n",
    "            )\n",
    "            return True  # Stop further diffing at this level\n",
    "        return False  # Paths are the same, continue with standard diffing\n",
    "\n",
    "# Testing the custom operator in DeepDiff\n",
    "path_operator = PathComparisonOperator()\n",
    "diff = DeepDiff(\n",
    "    {\"file_path\": Path(\"/users/test/file.txt\")},\n",
    "    {\"file_path\": Path(\"/users/test/file.txt\")},\n",
    "    custom_operators=[path_operator]\n",
    ")\n",
    "print(diff)\n"
   ]
  },
  {
   "cell_type": "code",
   "execution_count": 36,
   "metadata": {},
   "outputs": [
    {
     "name": "stdout",
     "output_type": "stream",
     "text": [
      "{}\n"
     ]
    }
   ],
   "source": [
    "import pandas as pd\n",
    "from deepdiff import DeepDiff\n",
    "from deepdiff.operator import BaseOperator\n",
    "\n",
    "class DataFrameComparisonOperator(BaseOperator):\n",
    "    def __init__(self, ignore_columns=None, ignore_index=True):\n",
    "        self.ignore_columns = ignore_columns or []\n",
    "        self.ignore_index = ignore_index\n",
    "    \n",
    "    def match(self, level):\n",
    "        # Ensure both objects at this level are DataFrames\n",
    "        return isinstance(level.t1, pd.DataFrame) and isinstance(level.t2, pd.DataFrame)\n",
    "    \n",
    "    def give_up_diffing(self, level, diff_instance):\n",
    "        # Remove specified columns\n",
    "        df1 = level.t1.drop(columns=self.ignore_columns, errors='ignore')\n",
    "        df2 = level.t2.drop(columns=self.ignore_columns, errors='ignore')\n",
    "        \n",
    "        # Reset indices if ignoring index\n",
    "        if self.ignore_index:\n",
    "            df1 = df1.reset_index(drop=True)\n",
    "            df2 = df2.reset_index(drop=True)\n",
    "        \n",
    "        # Compare DataFrames for equality\n",
    "        return df1.equals(df2)\n",
    "\n",
    "# Sample DataFrames for comparison\n",
    "df1 = pd.DataFrame({\n",
    "    'A': [1, 2, 3],\n",
    "    'B': ['x', 'y', 'z']\n",
    "})\n",
    "df2 = pd.DataFrame({\n",
    "    'A': [1, 2, 3],\n",
    "    'B': ['x', 'y', 'w']  # Note the change in the last row\n",
    "})\n",
    "\n",
    "# Instantiate and use the custom operator in DeepDiff\n",
    "df_operator = DataFrameComparisonOperator(ignore_columns=['B'], ignore_index=True)\n",
    "diff = DeepDiff(\n",
    "    {'data': df1},\n",
    "    {'data': df2},\n",
    "    custom_operators=[df_operator]\n",
    ")\n",
    "print(diff)  # Displays differences if the DataFrames are not equal\n"
   ]
  },
  {
   "cell_type": "code",
   "execution_count": 20,
   "metadata": {},
   "outputs": [
    {
     "data": {
      "text/plain": [
       "{'values_changed': {\"root['key1'][1]\": {'new_value': 'bar',\n",
       "   'old_value': \"bar's food\"},\n",
       "  \"root['key1'][2]\": {'new_value': 'jill', 'old_value': 'jack'},\n",
       "  \"root['key1'][3]\": {'new_value': \"joe'car\", 'old_value': 'joe'}}}"
      ]
     },
     "execution_count": 20,
     "metadata": {},
     "output_type": "execute_result"
    }
   ],
   "source": [
    "from deepdiff import DeepDiff\n",
    "from deepdiff.operator import PrefixOrSuffixOperator\n",
    "t1 = {\n",
    "    \"key1\": [\"foo\", \"bar's food\", \"jack\", \"joe\"]\n",
    "}\n",
    "t2 = {\n",
    "    \"key1\": [\"foo\", \"bar\", \"jill\", \"joe'car\"]\n",
    "}\n",
    "\n",
    "DeepDiff(t1, t2)\n"
   ]
  },
  {
   "cell_type": "code",
   "execution_count": 21,
   "metadata": {},
   "outputs": [
    {
     "data": {
      "text/plain": [
       "{'values_changed': {\"root['key1'][2]\": {'new_value': 'jill',\n",
       "   'old_value': 'jack'}}}"
      ]
     },
     "execution_count": 21,
     "metadata": {},
     "output_type": "execute_result"
    }
   ],
   "source": [
    "\n",
    "DeepDiff(t1, t2, custom_operators=[\n",
    "    PrefixOrSuffixOperator()\n",
    "])\n"
   ]
  },
  {
   "cell_type": "code",
   "execution_count": 74,
   "metadata": {},
   "outputs": [
    {
     "data": {
      "text/plain": [
       "['CACHE_AUTO_ADJUST_THRESHOLD',\n",
       " 'affected_paths',\n",
       " 'affected_root_keys',\n",
       " 'cache_size',\n",
       " 'cache_tuning_sample_size',\n",
       " 'clear',\n",
       " 'copy',\n",
       " 'custom_operators',\n",
       " 'custom_report_result',\n",
       " 'cutoff_distance_for_pairs',\n",
       " 'cutoff_intersection_for_pairs',\n",
       " 'deephash_parameters',\n",
       " 'encodings',\n",
       " 'exclude_obj_callback',\n",
       " 'exclude_obj_callback_strict',\n",
       " 'exclude_paths',\n",
       " 'exclude_regex_paths',\n",
       " 'exclude_types',\n",
       " 'exclude_types_tuple',\n",
       " 'from_json_pickle',\n",
       " 'fromkeys',\n",
       " 'get',\n",
       " 'get_ignore_types_in_groups',\n",
       " 'get_significant_digits',\n",
       " 'get_stats',\n",
       " 'group_by',\n",
       " 'group_by_sort_key',\n",
       " 'hasher',\n",
       " 'ignore_encoding_errors',\n",
       " 'ignore_nan_inequality',\n",
       " 'ignore_numeric_type_changes',\n",
       " 'ignore_order',\n",
       " 'ignore_order_func',\n",
       " 'ignore_private_variables',\n",
       " 'ignore_string_case',\n",
       " 'ignore_string_type_changes',\n",
       " 'ignore_type_in_groups',\n",
       " 'ignore_type_subclasses',\n",
       " 'include_obj_callback',\n",
       " 'include_obj_callback_strict',\n",
       " 'include_paths',\n",
       " 'is_root',\n",
       " 'items',\n",
       " 'iterable_compare_func',\n",
       " 'keys',\n",
       " 'log_scale_similarity_threshold',\n",
       " 'math_epsilon',\n",
       " 'max_diffs',\n",
       " 'max_passes',\n",
       " 'number_format_notation',\n",
       " 'number_to_string',\n",
       " 'numbers',\n",
       " 'pop',\n",
       " 'popitem',\n",
       " 'pretty',\n",
       " 'progress_logger',\n",
       " 'remove_empty_keys',\n",
       " 'report_repetition',\n",
       " 'setdefault',\n",
       " 'significant_digits',\n",
       " 'strings',\n",
       " 't1',\n",
       " 't2',\n",
       " 'threshold_to_diff_deeper',\n",
       " 'to_dict',\n",
       " 'to_json',\n",
       " 'to_json_pickle',\n",
       " 'tree',\n",
       " 'truncate_datetime',\n",
       " 'type_check_func',\n",
       " 'update',\n",
       " 'use_enum_value',\n",
       " 'use_log_scale',\n",
       " 'values',\n",
       " 'verbose_level',\n",
       " 'view',\n",
       " 'zip_ordered_iterables']"
      ]
     },
     "execution_count": 74,
     "metadata": {},
     "output_type": "execute_result"
    }
   ],
   "source": [
    "[i for i in dir(a) if not i.startswith('_')]"
   ]
  },
  {
   "cell_type": "code",
   "execution_count": null,
   "metadata": {},
   "outputs": [],
   "source": []
  },
  {
   "cell_type": "code",
   "execution_count": 32,
   "metadata": {},
   "outputs": [],
   "source": [
    "aa = {'a': 1, 'b': 2, 'c': 3, 'd': 4, 'e': 5}\n",
    "bb = aa.copy()\n",
    "bb['b'] = 33\n",
    "aadf = pd.DataFrame(aa, index=[0])\n",
    "bbdf = pd.DataFrame(bb, index=[0])\n",
    "\n",
    "\n",
    "diff = DeepDiff(aadf, bbdf)\n"
   ]
  },
  {
   "cell_type": "code",
   "execution_count": 37,
   "metadata": {},
   "outputs": [],
   "source": [
    "import inspect"
   ]
  },
  {
   "cell_type": "code",
   "execution_count": 39,
   "metadata": {},
   "outputs": [],
   "source": [
    "def function(s, x, y):\n",
    "    return x + y + s"
   ]
  },
  {
   "cell_type": "code",
   "execution_count": 41,
   "metadata": {},
   "outputs": [
    {
     "data": {
      "text/plain": [
       "'/tmp/ipykernel_326473/156289867.py'"
      ]
     },
     "execution_count": 41,
     "metadata": {},
     "output_type": "execute_result"
    }
   ],
   "source": [
    "inspect.getfile(function)"
   ]
  },
  {
   "cell_type": "code",
   "execution_count": 34,
   "metadata": {},
   "outputs": [
    {
     "data": {
      "text/plain": [
       "{}"
      ]
     },
     "execution_count": 34,
     "metadata": {},
     "output_type": "execute_result"
    }
   ],
   "source": [
    "a.to_dict()"
   ]
  },
  {
   "cell_type": "code",
   "execution_count": 12,
   "metadata": {},
   "outputs": [],
   "source": [
    "from snapdiff.utils import get_normalized_code"
   ]
  },
  {
   "cell_type": "code",
   "execution_count": 21,
   "metadata": {},
   "outputs": [],
   "source": [
    "import ast\n",
    "import hashlib\n",
    "import inspect\n",
    "\n",
    "class NormalizeNames(ast.NodeTransformer):\n",
    "    def __init__(self):\n",
    "        self.func_name_counter = 0\n",
    "        self.var_name_counter = 0\n",
    "        self.func_name_map = {}\n",
    "        self.var_name_map = {}\n",
    "\n",
    "    def visit_FunctionDef(self, node):\n",
    "        # Assign a generic name to function names\n",
    "        if node.name not in self.func_name_map:\n",
    "            self.func_name_map[node.name] = f\"func_{self.func_name_counter}\"\n",
    "            self.func_name_counter += 1\n",
    "        node.name = self.func_name_map[node.name]\n",
    "        # Continue transforming function arguments and body\n",
    "        self.generic_visit(node)\n",
    "        return node\n",
    "\n",
    "    def visit_Name(self, node):\n",
    "        # Assign generic names to variable names used in the function\n",
    "        if isinstance(node.ctx, ast.Store) or isinstance(node.ctx, ast.Load):\n",
    "            if node.id not in self.var_name_map:\n",
    "                self.var_name_map[node.id] = f\"var_{self.var_name_counter}\"\n",
    "                self.var_name_counter += 1\n",
    "            node.id = self.var_name_map[node.id]\n",
    "        return node\n",
    "\n",
    "def get_normalized_code(func):\n",
    "    # Get the source code of the function\n",
    "    source_code = inspect.getsource(func)\n",
    "    # Parse the source code into an Abstract Syntax Tree\n",
    "    parsed_code = ast.parse(source_code)\n",
    "    # Normalize function and variable names\n",
    "    normalizer = NormalizeNames()\n",
    "    normalized_tree = normalizer.visit(parsed_code)\n",
    "    # Convert the normalized AST back to source code (as a string) for hashing\n",
    "    normalized_code = ast.dump(normalized_tree, annotate_fields=False)\n",
    "    # Hash the normalized code\n",
    "    code_hash = hashlib.sha256(normalized_code.encode()).hexdigest()\n",
    "    return code_hash, normalized_code"
   ]
  },
  {
   "cell_type": "code",
   "execution_count": 22,
   "metadata": {},
   "outputs": [],
   "source": [
    "def buble_sort(l):\n",
    "    n = len(l)\n",
    "    for i in range(n):\n",
    "        for j in range(0, n-i-1):\n",
    "            if l[j] > l[j+1]:\n",
    "                l[j], l[j+1] = l[j+1], l[j]\n",
    "    return l"
   ]
  },
  {
   "cell_type": "code",
   "execution_count": 23,
   "metadata": {},
   "outputs": [],
   "source": [
    "hash_, norm = get_normalized_code(buble_sort)"
   ]
  },
  {
   "cell_type": "code",
   "execution_count": 25,
   "metadata": {},
   "outputs": [],
   "source": [
    "def buble_sort2(l):\n",
    "    n = len(l)\n",
    "    for i in range(n):\n",
    "        for j in range(0, n-i-1):\n",
    "            if l[j] > l[j+1]:\n",
    "                l[j], l[j+1] = l[j+1], l[j]\n",
    "    return l"
   ]
  },
  {
   "cell_type": "code",
   "execution_count": 26,
   "metadata": {},
   "outputs": [],
   "source": [
    "hash_2, norm2 = get_normalized_code(buble_sort2)"
   ]
  },
  {
   "cell_type": "code",
   "execution_count": 34,
   "metadata": {},
   "outputs": [
    {
     "name": "stdout",
     "output_type": "stream",
     "text": [
      "Module([FunctionDef('func_0', arguments([], [arg('l')], kwonlyargs=[], kw_defaults=[], defaults=[]), [Assign([Name('var_0', Store())], Call(Name('var_1', Load()), [Name('var_2', Load())], [])), For(Name('var_3', Store()), Call(Name('var_4', Load()), [Name('var_0', Load())], []), [For(Name('var_5', Store()), Call(Name('var_4', Load()), [Constant(0), BinOp(BinOp(Name('var_0', Load()), Sub(), Name('var_3', Load())), Sub(), Constant(1))], []), [If(Compare(Subscript(Name('var_2', Load()), Name('var_5', Load()), Load()), [Gt()], [Subscript(Name('var_2', Load()), BinOp(Name('var_5', Load()), Add(), Constant(1)), Load())]), [Assign([Tuple([Subscript(Name('var_2', Load()), Name('var_5', Load()), Store()), Subscript(Name('var_2', Load()), BinOp(Name('var_5', Load()), Add(), Constant(1)), Store())], Store())], Tuple([Subscript(Name('var_2', Load()), BinOp(Name('var_5', Load()), Add(), Constant(1)), Load()), Subscript(Name('var_2', Load()), Name('var_5', Load()), Load())], Load()))], [])], [])], []), Return(Name('var_2', Load()))], [])], [])\n"
     ]
    }
   ],
   "source": [
    "print(norm2)"
   ]
  },
  {
   "cell_type": "code",
   "execution_count": null,
   "metadata": {},
   "outputs": [],
   "source": []
  },
  {
   "cell_type": "code",
   "execution_count": 49,
   "metadata": {},
   "outputs": [],
   "source": [
    "import inspect\n",
    "import ast\n",
    "import hashlib\n",
    "import yaml\n",
    "import os\n",
    "import json\n",
    "from deepdiff import DeepDiff\n",
    "import astor\n",
    "\n",
    "\n",
    "def get_normalized_code(func):\n",
    "    # get the source code of the function\n",
    "    source_code = inspect.getsource(func)\n",
    "    # parse the source code into an Abstract Syntax Tree\n",
    "    parsed_code = ast.parse(source_code)\n",
    "    # convert the Abstract Syntax Tree back to normalized source code\n",
    "    normalized_code = ast.dump(parsed_code, annotate_fields=True, indent=4)\n",
    "    # hash the normalized code\n",
    "    formatted_code = astor.to_source(parsed_code)\n",
    "    code_hash = hashlib.sha256(normalized_code.encode()).hexdigest()\n",
    "    return code_hash, normalized_code, formatted_code\n"
   ]
  },
  {
   "cell_type": "code",
   "execution_count": 50,
   "metadata": {},
   "outputs": [
    {
     "name": "stdout",
     "output_type": "stream",
     "text": [
      "Module(\n",
      "    body=[\n",
      "        FunctionDef(\n",
      "            name='function',\n",
      "            args=arguments(\n",
      "                posonlyargs=[],\n",
      "                args=[\n",
      "                    arg(arg='s'),\n",
      "                    arg(arg='x'),\n",
      "                    arg(arg='y')],\n",
      "                kwonlyargs=[],\n",
      "                kw_defaults=[],\n",
      "                defaults=[]),\n",
      "            body=[\n",
      "                Expr(\n",
      "                    value=Constant(value='asdfasdf')),\n",
      "                Return(\n",
      "                    value=BinOp(\n",
      "                        left=BinOp(\n",
      "                            left=Name(id='x', ctx=Load()),\n",
      "                            op=Add(),\n",
      "                            right=Name(id='y', ctx=Load())),\n",
      "                        op=Add(),\n",
      "                        right=Call(\n",
      "                            func=Name(id='str', ctx=Load()),\n",
      "                            args=[\n",
      "                                Name(id='s', ctx=Load())],\n",
      "                            keywords=[])))],\n",
      "            decorator_list=[\n",
      "                Call(\n",
      "                    func=Name(id='snapper', ctx=Load()),\n",
      "                    args=[],\n",
      "                    keywords=[\n",
      "                        keyword(\n",
      "                            arg='compare_conds',\n",
      "                            value=Constant(value=1)),\n",
      "                        keyword(\n",
      "                            arg='diff_func',\n",
      "                            value=Constant(value=None))])])],\n",
      "    type_ignores=[])\n"
     ]
    }
   ],
   "source": [
    "get_normalized_code(function)[1])"
   ]
  },
  {
   "cell_type": "code",
   "execution_count": 52,
   "metadata": {},
   "outputs": [
    {
     "data": {
      "text/plain": [
       "{'values_changed': {'root': {'new_value': 'sdfg', 'old_value': 'asdf'}}}"
      ]
     },
     "execution_count": 52,
     "metadata": {},
     "output_type": "execute_result"
    }
   ],
   "source": [
    "DeepDiff('asdf', 'sdfg', )"
   ]
  },
  {
   "cell_type": "code",
   "execution_count": 55,
   "metadata": {},
   "outputs": [],
   "source": [
    "i = 0\n",
    "a = i if i else (2 if 2==2 else 3)"
   ]
  },
  {
   "cell_type": "code",
   "execution_count": 56,
   "metadata": {},
   "outputs": [
    {
     "data": {
      "text/plain": [
       "2"
      ]
     },
     "execution_count": 56,
     "metadata": {},
     "output_type": "execute_result"
    }
   ],
   "source": [
    "a"
   ]
  },
  {
   "cell_type": "code",
   "execution_count": null,
   "metadata": {},
   "outputs": [],
   "source": [
    "# 1 - the function name changed but the hash is the same\n",
    "# 2 - the function name changed and the hash is different\n",
    "# 3 - the function name is the same and the hash is different\n",
    "# 4 - the function name is the same and the hash is the same"
   ]
  },
  {
   "cell_type": "code",
   "execution_count": null,
   "metadata": {},
   "outputs": [],
   "source": []
  },
  {
   "cell_type": "code",
   "execution_count": 21,
   "metadata": {},
   "outputs": [],
   "source": [
    "import json\n",
    "import uuid\n",
    "\n",
    "ID_FILE = \"snapper_ids.json\"\n",
    "\n",
    "# Load ID mappings from a file\n",
    "def load_id_map():\n",
    "    try:\n",
    "        with open(ID_FILE, \"r\") as f:\n",
    "            return json.load(f)\n",
    "    except FileNotFoundError:\n",
    "        return {}\n",
    "\n",
    "# Save ID mappings to a file\n",
    "def save_id_map(id_map):\n",
    "    with open(ID_FILE, \"w\") as f:\n",
    "        json.dump(id_map, f)\n",
    "\n",
    "# Decorator function to automatically assign a unique ID to each function\n",
    "def snapper():\n",
    "    def decorator(func):\n",
    "        id_map = load_id_map()\n",
    "\n",
    "        # If the function has been wrapped before, reuse its ID\n",
    "        if func.__name__ in id_map:\n",
    "            unique_id = id_map[func.__name__]\n",
    "        else:\n",
    "            # Generate a new ID for a new function\n",
    "            unique_id = str(uuid.uuid4())\n",
    "            id_map[func.__name__] = unique_id\n",
    "            save_id_map(id_map)  # Save the updated mapping\n",
    "\n",
    "        # Assign the ID to the function (or Snapper instance)\n",
    "        func._snapper_id = unique_id\n",
    "\n",
    "        # Wrap the function as needed here\n",
    "        def wrapper(*args, **kwargs):\n",
    "            print(f\"Function {func.__name__} has ID: {func._snapper_id}\")\n",
    "            return func(*args, **kwargs)\n",
    "\n",
    "        return wrapper\n",
    "\n",
    "    return decorator\n",
    "\n"
   ]
  },
  {
   "cell_type": "code",
   "execution_count": 35,
   "metadata": {},
   "outputs": [],
   "source": [
    "\n",
    "# Example usage\n",
    "@snapper()\n",
    "def func3(x, y, z):\n",
    "    return x + y + z\n"
   ]
  },
  {
   "cell_type": "code",
   "execution_count": 36,
   "metadata": {},
   "outputs": [
    {
     "name": "stdout",
     "output_type": "stream",
     "text": [
      "Function func3 has ID: a3d671bc-ede7-4653-914a-5f41df6b2b64\n"
     ]
    },
    {
     "data": {
      "text/plain": [
       "6"
      ]
     },
     "execution_count": 36,
     "metadata": {},
     "output_type": "execute_result"
    }
   ],
   "source": [
    "\n",
    "# Run functions to see the ID assignment\n",
    "func3(1, 2, 3)  # This should print the ID for func1"
   ]
  },
  {
   "cell_type": "code",
   "execution_count": 24,
   "metadata": {},
   "outputs": [
    {
     "name": "stdout",
     "output_type": "stream",
     "text": [
      "Function func1 has ID: fe79bafc-1880-4ff8-8c24-9a69973fb80e\n"
     ]
    },
    {
     "data": {
      "text/plain": [
       "3"
      ]
     },
     "execution_count": 24,
     "metadata": {},
     "output_type": "execute_result"
    }
   ],
   "source": [
    "\n"
   ]
  },
  {
   "cell_type": "code",
   "execution_count": 25,
   "metadata": {},
   "outputs": [
    {
     "name": "stdout",
     "output_type": "stream",
     "text": [
      "Function func2 has ID: d543b916-a0a7-49e9-b2d1-a859aec8f11e\n"
     ]
    },
    {
     "data": {
      "text/plain": [
       "12"
      ]
     },
     "execution_count": 25,
     "metadata": {},
     "output_type": "execute_result"
    }
   ],
   "source": [
    "\n",
    "func2(3, 4)  # This should print the same ID if it's logically the same function\n"
   ]
  },
  {
   "cell_type": "code",
   "execution_count": null,
   "metadata": {},
   "outputs": [],
   "source": []
  },
  {
   "cell_type": "code",
   "execution_count": null,
   "metadata": {},
   "outputs": [],
   "source": []
  }
 ],
 "metadata": {
  "kernelspec": {
   "display_name": ".venv",
   "language": "python",
   "name": "python3"
  },
  "language_info": {
   "codemirror_mode": {
    "name": "ipython",
    "version": 3
   },
   "file_extension": ".py",
   "mimetype": "text/x-python",
   "name": "python",
   "nbconvert_exporter": "python",
   "pygments_lexer": "ipython3",
   "version": "3.10.12"
  }
 },
 "nbformat": 4,
 "nbformat_minor": 2
}
