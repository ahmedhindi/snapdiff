{
 "cells": [
  {
   "cell_type": "code",
   "execution_count": 42,
   "metadata": {},
   "outputs": [
    {
     "name": "stdout",
     "output_type": "stream",
     "text": [
      "The autoreload extension is already loaded. To reload it, use:\n",
      "  %reload_ext autoreload\n"
     ]
    }
   ],
   "source": [
    "# reload python modules\n",
    "%load_ext autoreload\n",
    "%autoreload 2"
   ]
  },
  {
   "cell_type": "code",
   "execution_count": 43,
   "metadata": {},
   "outputs": [],
   "source": [
    "import pandas as pd\n",
    "from snapdiff.snapper import snapper"
   ]
  },
  {
   "cell_type": "code",
   "execution_count": 45,
   "metadata": {},
   "outputs": [],
   "source": [
    "from snapdiff.utils import get_path, get_normalized_code"
   ]
  },
  {
   "cell_type": "code",
   "execution_count": 46,
   "metadata": {},
   "outputs": [
    {
     "data": {
      "text/plain": [
       "'snapdiff/utils.py'"
      ]
     },
     "execution_count": 46,
     "metadata": {},
     "output_type": "execute_result"
    }
   ],
   "source": [
    "get_path(get_normalized_code)"
   ]
  },
  {
   "cell_type": "code",
   "execution_count": 13,
   "metadata": {},
   "outputs": [],
   "source": [
    "@snapper(mode='diff')\n",
    "def function(s, x, y):\n",
    "    return x + y + s"
   ]
  },
  {
   "cell_type": "code",
   "execution_count": 15,
   "metadata": {},
   "outputs": [
    {
     "data": {
      "text/plain": [
       "6"
      ]
     },
     "execution_count": 15,
     "metadata": {},
     "output_type": "execute_result"
    }
   ],
   "source": [
    "function(1, 2, 3)"
   ]
  },
  {
   "cell_type": "code",
   "execution_count": 6,
   "metadata": {},
   "outputs": [],
   "source": [
    "from deepdiff import DeepDiff, Delta"
   ]
  },
  {
   "cell_type": "code",
   "execution_count": 7,
   "metadata": {},
   "outputs": [],
   "source": [
    "from pathlib import Path"
   ]
  },
  {
   "cell_type": "code",
   "execution_count": 8,
   "metadata": {},
   "outputs": [],
   "source": [
    "pathone = Path('snapdiff/snapshots/function/1/2/3/1.json')\n",
    "pathtwo = Path('snapdiff/snapshots/function/1/2/3/1.json')"
   ]
  },
  {
   "cell_type": "code",
   "execution_count": 9,
   "metadata": {},
   "outputs": [
    {
     "data": {
      "text/plain": [
       "'snapdiff/snapshots/function/1/2/3/1.json'"
      ]
     },
     "execution_count": 9,
     "metadata": {},
     "output_type": "execute_result"
    }
   ],
   "source": [
    "str(pathone)"
   ]
  },
  {
   "cell_type": "code",
   "execution_count": 10,
   "metadata": {},
   "outputs": [
    {
     "data": {
      "text/plain": [
       "True"
      ]
     },
     "execution_count": 10,
     "metadata": {},
     "output_type": "execute_result"
    }
   ],
   "source": [
    "pathone == pathtwo"
   ]
  },
  {
   "cell_type": "code",
   "execution_count": 11,
   "metadata": {},
   "outputs": [
    {
     "data": {
      "text/plain": [
       "<Delta: {'type_changes': {'root[2]': {'old_type': <class 'int'>, 'new_type': <class 'pathlib.PosixPath'>,...}>"
      ]
     },
     "execution_count": 11,
     "metadata": {},
     "output_type": "execute_result"
    }
   ],
   "source": [
    "pathone = Path('snapdiff/snapshots/function/1/2/3/1.json')\n",
    "pathtwo = Path('snapdiff/snapshots/function/1/2/3/1.json')\n",
    "b = DeepDiff([2,[pathone, 1,6], 1,2,8], [0, [pathtwo, 1,6],pathtwo,2,3])\n",
    "Delta(b)"
   ]
  },
  {
   "cell_type": "code",
   "execution_count": 12,
   "metadata": {},
   "outputs": [],
   "source": [
    "from datadiff import diff"
   ]
  },
  {
   "cell_type": "code",
   "execution_count": 33,
   "metadata": {},
   "outputs": [
    {
     "name": "stdout",
     "output_type": "stream",
     "text": [
      "{'type_changes': {'root[0]': {'old_type': <class 'pathlib.PosixPath'>, 'new_type': <class 'int'>, 'old_value': PosixPath('snapdiff/snapshots/function/1/2/3/1.json'), 'new_value': 1}}}\n"
     ]
    }
   ],
   "source": [
    "from deepdiff import DeepDiff\n",
    "from deepdiff.operator import BaseOperator\n",
    "from pathlib import Path\n",
    "\n",
    "class PathInsensitiveOperator(BaseOperator):\n",
    "    def match(self, level):\n",
    "        # Only match when both objects are Path instances\n",
    "        return isinstance(level.t1, Path) and isinstance(level.t2, Path)\n",
    "    \n",
    "    def give_up_diffing(self, level, diff_instance):\n",
    "        # Compare paths as lowercase resolved strings for insensitivity\n",
    "        path1, path2 = map(lambda p: p.resolve().as_posix().lower(), (level.t1, level.t2))\n",
    "        return path1 == path2  # Return True if paths are considered the same\n",
    "\n",
    "# Instantiate the operator and use it in DeepDiff\n",
    "path_operator = PathInsensitiveOperator()\n",
    "diff = DeepDiff([pathtwo, 5, 7], [1, 5,7],\n",
    "    custom_operators=[PathInsensitiveOperator()]\n",
    ")\n",
    "print(diff)  # Should show no difference if paths match under custom comparison\n"
   ]
  },
  {
   "cell_type": "code",
   "execution_count": 50,
   "metadata": {},
   "outputs": [
    {
     "name": "stdout",
     "output_type": "stream",
     "text": [
      "here\n",
      "{'path_difference': {\"root['file_path']\": {'old_value': '/home/ahmed/desktop/learning/snapdiff/snapdiff/path/to/file', 'new_value': '/home/ahmed/desktop/learning/snapdiff/snapdiff/snapdiff/snapshots/function/1/2/3/1.json'}}}\n"
     ]
    }
   ],
   "source": [
    "from deepdiff import DeepDiff\n",
    "from deepdiff.operator import BaseOperator\n",
    "from pathlib import Path\n",
    "\n",
    "class PathComparisonOperator(BaseOperator):\n",
    "    def match(self, level):\n",
    "        # Ensure both objects at this level are Path instances\n",
    "        return isinstance(level.t1, Path) and isinstance(level.t2, Path)\n",
    "    \n",
    "    def give_up_diffing(self, level, diff_instance):\n",
    "        # Convert paths to lowercase and resolve for comparison\n",
    "        path1, path2 = map(lambda p: p.resolve().as_posix().lower(), (level.t1, level.t2))\n",
    "        if path1 != path2:\n",
    "            # Use custom_report_result to add a custom difference entry\n",
    "            diff_instance.custom_report_result(\n",
    "                \"path_difference\", \n",
    "                level, \n",
    "                {\"old_value\": path1, \"new_value\": path2}\n",
    "            )\n",
    "            return True  # Stop further diffing at this level\n",
    "        return False  # Paths are the same, continue with standard diffing\n",
    "\n",
    "\n",
    "# Testing the custom operator in DeepDiff\n",
    "path_operator = PathComparisonOperator()\n",
    "diff = DeepDiff(\n",
    "    {\"file_path\": Path(\"path/to/file\")},\n",
    "    {\"file_path\": pathtwo},\n",
    "    custom_operators=[path_operator]\n",
    ")\n",
    "print(diff)\n"
   ]
  },
  {
   "cell_type": "code",
   "execution_count": 36,
   "metadata": {},
   "outputs": [
    {
     "name": "stdout",
     "output_type": "stream",
     "text": [
      "{}\n"
     ]
    }
   ],
   "source": [
    "import pandas as pd\n",
    "from deepdiff import DeepDiff\n",
    "from deepdiff.operator import BaseOperator\n",
    "\n",
    "class DataFrameComparisonOperator(BaseOperator):\n",
    "    def __init__(self, ignore_columns=None, ignore_index=True):\n",
    "        self.ignore_columns = ignore_columns or []\n",
    "        self.ignore_index = ignore_index\n",
    "    \n",
    "    def match(self, level):\n",
    "        # Ensure both objects at this level are DataFrames\n",
    "        return isinstance(level.t1, pd.DataFrame) and isinstance(level.t2, pd.DataFrame)\n",
    "    \n",
    "    def give_up_diffing(self, level, diff_instance):\n",
    "        # Remove specified columns\n",
    "        df1 = level.t1.drop(columns=self.ignore_columns, errors='ignore')\n",
    "        df2 = level.t2.drop(columns=self.ignore_columns, errors='ignore')\n",
    "        \n",
    "        # Reset indices if ignoring index\n",
    "        if self.ignore_index:\n",
    "            df1 = df1.reset_index(drop=True)\n",
    "            df2 = df2.reset_index(drop=True)\n",
    "        \n",
    "        # Compare DataFrames for equality\n",
    "        return df1.equals(df2)\n",
    "\n",
    "# Sample DataFrames for comparison\n",
    "df1 = pd.DataFrame({\n",
    "    'A': [1, 2, 3],\n",
    "    'B': ['x', 'y', 'z']\n",
    "})\n",
    "df2 = pd.DataFrame({\n",
    "    'A': [1, 2, 3],\n",
    "    'B': ['x', 'y', 'w']  # Note the change in the last row\n",
    "})\n",
    "\n",
    "# Instantiate and use the custom operator in DeepDiff\n",
    "df_operator = DataFrameComparisonOperator(ignore_columns=['B'], ignore_index=True)\n",
    "diff = DeepDiff(\n",
    "    {'data': df1},\n",
    "    {'data': df2},\n",
    "    custom_operators=[df_operator]\n",
    ")\n",
    "print(diff)  # Displays differences if the DataFrames are not equal\n"
   ]
  },
  {
   "cell_type": "code",
   "execution_count": 20,
   "metadata": {},
   "outputs": [
    {
     "data": {
      "text/plain": [
       "{'values_changed': {\"root['key1'][1]\": {'new_value': 'bar',\n",
       "   'old_value': \"bar's food\"},\n",
       "  \"root['key1'][2]\": {'new_value': 'jill', 'old_value': 'jack'},\n",
       "  \"root['key1'][3]\": {'new_value': \"joe'car\", 'old_value': 'joe'}}}"
      ]
     },
     "execution_count": 20,
     "metadata": {},
     "output_type": "execute_result"
    }
   ],
   "source": [
    "from deepdiff import DeepDiff\n",
    "from deepdiff.operator import PrefixOrSuffixOperator\n",
    "t1 = {\n",
    "    \"key1\": [\"foo\", \"bar's food\", \"jack\", \"joe\"]\n",
    "}\n",
    "t2 = {\n",
    "    \"key1\": [\"foo\", \"bar\", \"jill\", \"joe'car\"]\n",
    "}\n",
    "\n",
    "DeepDiff(t1, t2)\n"
   ]
  },
  {
   "cell_type": "code",
   "execution_count": 21,
   "metadata": {},
   "outputs": [
    {
     "data": {
      "text/plain": [
       "{'values_changed': {\"root['key1'][2]\": {'new_value': 'jill',\n",
       "   'old_value': 'jack'}}}"
      ]
     },
     "execution_count": 21,
     "metadata": {},
     "output_type": "execute_result"
    }
   ],
   "source": [
    "\n",
    "DeepDiff(t1, t2, custom_operators=[\n",
    "    PrefixOrSuffixOperator()\n",
    "])\n"
   ]
  },
  {
   "cell_type": "code",
   "execution_count": 74,
   "metadata": {},
   "outputs": [
    {
     "data": {
      "text/plain": [
       "['CACHE_AUTO_ADJUST_THRESHOLD',\n",
       " 'affected_paths',\n",
       " 'affected_root_keys',\n",
       " 'cache_size',\n",
       " 'cache_tuning_sample_size',\n",
       " 'clear',\n",
       " 'copy',\n",
       " 'custom_operators',\n",
       " 'custom_report_result',\n",
       " 'cutoff_distance_for_pairs',\n",
       " 'cutoff_intersection_for_pairs',\n",
       " 'deephash_parameters',\n",
       " 'encodings',\n",
       " 'exclude_obj_callback',\n",
       " 'exclude_obj_callback_strict',\n",
       " 'exclude_paths',\n",
       " 'exclude_regex_paths',\n",
       " 'exclude_types',\n",
       " 'exclude_types_tuple',\n",
       " 'from_json_pickle',\n",
       " 'fromkeys',\n",
       " 'get',\n",
       " 'get_ignore_types_in_groups',\n",
       " 'get_significant_digits',\n",
       " 'get_stats',\n",
       " 'group_by',\n",
       " 'group_by_sort_key',\n",
       " 'hasher',\n",
       " 'ignore_encoding_errors',\n",
       " 'ignore_nan_inequality',\n",
       " 'ignore_numeric_type_changes',\n",
       " 'ignore_order',\n",
       " 'ignore_order_func',\n",
       " 'ignore_private_variables',\n",
       " 'ignore_string_case',\n",
       " 'ignore_string_type_changes',\n",
       " 'ignore_type_in_groups',\n",
       " 'ignore_type_subclasses',\n",
       " 'include_obj_callback',\n",
       " 'include_obj_callback_strict',\n",
       " 'include_paths',\n",
       " 'is_root',\n",
       " 'items',\n",
       " 'iterable_compare_func',\n",
       " 'keys',\n",
       " 'log_scale_similarity_threshold',\n",
       " 'math_epsilon',\n",
       " 'max_diffs',\n",
       " 'max_passes',\n",
       " 'number_format_notation',\n",
       " 'number_to_string',\n",
       " 'numbers',\n",
       " 'pop',\n",
       " 'popitem',\n",
       " 'pretty',\n",
       " 'progress_logger',\n",
       " 'remove_empty_keys',\n",
       " 'report_repetition',\n",
       " 'setdefault',\n",
       " 'significant_digits',\n",
       " 'strings',\n",
       " 't1',\n",
       " 't2',\n",
       " 'threshold_to_diff_deeper',\n",
       " 'to_dict',\n",
       " 'to_json',\n",
       " 'to_json_pickle',\n",
       " 'tree',\n",
       " 'truncate_datetime',\n",
       " 'type_check_func',\n",
       " 'update',\n",
       " 'use_enum_value',\n",
       " 'use_log_scale',\n",
       " 'values',\n",
       " 'verbose_level',\n",
       " 'view',\n",
       " 'zip_ordered_iterables']"
      ]
     },
     "execution_count": 74,
     "metadata": {},
     "output_type": "execute_result"
    }
   ],
   "source": [
    "[i for i in dir(a) if not i.startswith('_')]"
   ]
  },
  {
   "cell_type": "code",
   "execution_count": null,
   "metadata": {},
   "outputs": [],
   "source": []
  },
  {
   "cell_type": "code",
   "execution_count": 32,
   "metadata": {},
   "outputs": [],
   "source": [
    "aa = {'a': 1, 'b': 2, 'c': 3, 'd': 4, 'e': 5}\n",
    "bb = aa.copy()\n",
    "bb['b'] = 33\n",
    "aadf = pd.DataFrame(aa, index=[0])\n",
    "bbdf = pd.DataFrame(bb, index=[0])\n",
    "\n",
    "\n",
    "diff = DeepDiff(aadf, bbdf)\n"
   ]
  },
  {
   "cell_type": "code",
   "execution_count": 37,
   "metadata": {},
   "outputs": [],
   "source": [
    "import inspect"
   ]
  },
  {
   "cell_type": "code",
   "execution_count": 39,
   "metadata": {},
   "outputs": [],
   "source": [
    "def function(s, x, y):\n",
    "    return x + y + s"
   ]
  },
  {
   "cell_type": "code",
   "execution_count": 41,
   "metadata": {},
   "outputs": [
    {
     "data": {
      "text/plain": [
       "'/tmp/ipykernel_326473/156289867.py'"
      ]
     },
     "execution_count": 41,
     "metadata": {},
     "output_type": "execute_result"
    }
   ],
   "source": [
    "inspect.getfile(function)"
   ]
  },
  {
   "cell_type": "code",
   "execution_count": 34,
   "metadata": {},
   "outputs": [
    {
     "data": {
      "text/plain": [
       "{}"
      ]
     },
     "execution_count": 34,
     "metadata": {},
     "output_type": "execute_result"
    }
   ],
   "source": [
    "a.to_dict()"
   ]
  },
  {
   "cell_type": "code",
   "execution_count": 12,
   "metadata": {},
   "outputs": [],
   "source": [
    "from snapdiff.utils import get_normalized_code"
   ]
  },
  {
   "cell_type": "code",
   "execution_count": 21,
   "metadata": {},
   "outputs": [],
   "source": [
    "import ast\n",
    "import hashlib\n",
    "import inspect\n",
    "\n",
    "class NormalizeNames(ast.NodeTransformer):\n",
    "    def __init__(self):\n",
    "        self.func_name_counter = 0\n",
    "        self.var_name_counter = 0\n",
    "        self.func_name_map = {}\n",
    "        self.var_name_map = {}\n",
    "\n",
    "    def visit_FunctionDef(self, node):\n",
    "        # Assign a generic name to function names\n",
    "        if node.name not in self.func_name_map:\n",
    "            self.func_name_map[node.name] = f\"func_{self.func_name_counter}\"\n",
    "            self.func_name_counter += 1\n",
    "        node.name = self.func_name_map[node.name]\n",
    "        # Continue transforming function arguments and body\n",
    "        self.generic_visit(node)\n",
    "        return node\n",
    "\n",
    "    def visit_Name(self, node):\n",
    "        # Assign generic names to variable names used in the function\n",
    "        if isinstance(node.ctx, ast.Store) or isinstance(node.ctx, ast.Load):\n",
    "            if node.id not in self.var_name_map:\n",
    "                self.var_name_map[node.id] = f\"var_{self.var_name_counter}\"\n",
    "                self.var_name_counter += 1\n",
    "            node.id = self.var_name_map[node.id]\n",
    "        return node\n",
    "\n",
    "def get_normalized_code(func):\n",
    "    # Get the source code of the function\n",
    "    source_code = inspect.getsource(func)\n",
    "    # Parse the source code into an Abstract Syntax Tree\n",
    "    parsed_code = ast.parse(source_code)\n",
    "    # Normalize function and variable names\n",
    "    normalizer = NormalizeNames()\n",
    "    normalized_tree = normalizer.visit(parsed_code)\n",
    "    # Convert the normalized AST back to source code (as a string) for hashing\n",
    "    normalized_code = ast.dump(normalized_tree, annotate_fields=False)\n",
    "    # Hash the normalized code\n",
    "    code_hash = hashlib.sha256(normalized_code.encode()).hexdigest()\n",
    "    return code_hash, normalized_code"
   ]
  },
  {
   "cell_type": "code",
   "execution_count": 22,
   "metadata": {},
   "outputs": [],
   "source": [
    "def buble_sort(l):\n",
    "    n = len(l)\n",
    "    for i in range(n):\n",
    "        for j in range(0, n-i-1):\n",
    "            if l[j] > l[j+1]:\n",
    "                l[j], l[j+1] = l[j+1], l[j]\n",
    "    return l"
   ]
  },
  {
   "cell_type": "code",
   "execution_count": 23,
   "metadata": {},
   "outputs": [],
   "source": [
    "hash_, norm = get_normalized_code(buble_sort)"
   ]
  },
  {
   "cell_type": "code",
   "execution_count": 25,
   "metadata": {},
   "outputs": [],
   "source": [
    "def buble_sort2(l):\n",
    "    n = len(l)\n",
    "    for i in range(n):\n",
    "        for j in range(0, n-i-1):\n",
    "            if l[j] > l[j+1]:\n",
    "                l[j], l[j+1] = l[j+1], l[j]\n",
    "    return l"
   ]
  },
  {
   "cell_type": "code",
   "execution_count": 26,
   "metadata": {},
   "outputs": [],
   "source": [
    "hash_2, norm2 = get_normalized_code(buble_sort2)"
   ]
  },
  {
   "cell_type": "code",
   "execution_count": 34,
   "metadata": {},
   "outputs": [
    {
     "name": "stdout",
     "output_type": "stream",
     "text": [
      "Module([FunctionDef('func_0', arguments([], [arg('l')], kwonlyargs=[], kw_defaults=[], defaults=[]), [Assign([Name('var_0', Store())], Call(Name('var_1', Load()), [Name('var_2', Load())], [])), For(Name('var_3', Store()), Call(Name('var_4', Load()), [Name('var_0', Load())], []), [For(Name('var_5', Store()), Call(Name('var_4', Load()), [Constant(0), BinOp(BinOp(Name('var_0', Load()), Sub(), Name('var_3', Load())), Sub(), Constant(1))], []), [If(Compare(Subscript(Name('var_2', Load()), Name('var_5', Load()), Load()), [Gt()], [Subscript(Name('var_2', Load()), BinOp(Name('var_5', Load()), Add(), Constant(1)), Load())]), [Assign([Tuple([Subscript(Name('var_2', Load()), Name('var_5', Load()), Store()), Subscript(Name('var_2', Load()), BinOp(Name('var_5', Load()), Add(), Constant(1)), Store())], Store())], Tuple([Subscript(Name('var_2', Load()), BinOp(Name('var_5', Load()), Add(), Constant(1)), Load()), Subscript(Name('var_2', Load()), Name('var_5', Load()), Load())], Load()))], [])], [])], []), Return(Name('var_2', Load()))], [])], [])\n"
     ]
    }
   ],
   "source": [
    "print(norm2)"
   ]
  },
  {
   "cell_type": "code",
   "execution_count": null,
   "metadata": {},
   "outputs": [],
   "source": []
  },
  {
   "cell_type": "code",
   "execution_count": 49,
   "metadata": {},
   "outputs": [],
   "source": [
    "import inspect\n",
    "import ast\n",
    "import hashlib\n",
    "import yaml\n",
    "import os\n",
    "import json\n",
    "from deepdiff import DeepDiff\n",
    "import astor\n",
    "\n",
    "\n",
    "def get_normalized_code(func):\n",
    "    # get the source code of the function\n",
    "    source_code = inspect.getsource(func)\n",
    "    # parse the source code into an Abstract Syntax Tree\n",
    "    parsed_code = ast.parse(source_code)\n",
    "    # convert the Abstract Syntax Tree back to normalized source code\n",
    "    normalized_code = ast.dump(parsed_code, annotate_fields=True, indent=4)\n",
    "    # hash the normalized code\n",
    "    formatted_code = astor.to_source(parsed_code)\n",
    "    code_hash = hashlib.sha256(normalized_code.encode()).hexdigest()\n",
    "    return code_hash, normalized_code, formatted_code\n"
   ]
  },
  {
   "cell_type": "code",
   "execution_count": 50,
   "metadata": {},
   "outputs": [
    {
     "name": "stdout",
     "output_type": "stream",
     "text": [
      "Module(\n",
      "    body=[\n",
      "        FunctionDef(\n",
      "            name='function',\n",
      "            args=arguments(\n",
      "                posonlyargs=[],\n",
      "                args=[\n",
      "                    arg(arg='s'),\n",
      "                    arg(arg='x'),\n",
      "                    arg(arg='y')],\n",
      "                kwonlyargs=[],\n",
      "                kw_defaults=[],\n",
      "                defaults=[]),\n",
      "            body=[\n",
      "                Expr(\n",
      "                    value=Constant(value='asdfasdf')),\n",
      "                Return(\n",
      "                    value=BinOp(\n",
      "                        left=BinOp(\n",
      "                            left=Name(id='x', ctx=Load()),\n",
      "                            op=Add(),\n",
      "                            right=Name(id='y', ctx=Load())),\n",
      "                        op=Add(),\n",
      "                        right=Call(\n",
      "                            func=Name(id='str', ctx=Load()),\n",
      "                            args=[\n",
      "                                Name(id='s', ctx=Load())],\n",
      "                            keywords=[])))],\n",
      "            decorator_list=[\n",
      "                Call(\n",
      "                    func=Name(id='snapper', ctx=Load()),\n",
      "                    args=[],\n",
      "                    keywords=[\n",
      "                        keyword(\n",
      "                            arg='compare_conds',\n",
      "                            value=Constant(value=1)),\n",
      "                        keyword(\n",
      "                            arg='diff_func',\n",
      "                            value=Constant(value=None))])])],\n",
      "    type_ignores=[])\n"
     ]
    }
   ],
   "source": [
    "get_normalized_code(function)[1])"
   ]
  },
  {
   "cell_type": "code",
   "execution_count": 52,
   "metadata": {},
   "outputs": [
    {
     "data": {
      "text/plain": [
       "{'values_changed': {'root': {'new_value': 'sdfg', 'old_value': 'asdf'}}}"
      ]
     },
     "execution_count": 52,
     "metadata": {},
     "output_type": "execute_result"
    }
   ],
   "source": [
    "DeepDiff('asdf', 'sdfg', )"
   ]
  },
  {
   "cell_type": "code",
   "execution_count": 55,
   "metadata": {},
   "outputs": [],
   "source": [
    "i = 0\n",
    "a = i if i else (2 if 2==2 else 3)"
   ]
  },
  {
   "cell_type": "code",
   "execution_count": 56,
   "metadata": {},
   "outputs": [
    {
     "data": {
      "text/plain": [
       "2"
      ]
     },
     "execution_count": 56,
     "metadata": {},
     "output_type": "execute_result"
    }
   ],
   "source": [
    "a"
   ]
  },
  {
   "cell_type": "code",
   "execution_count": null,
   "metadata": {},
   "outputs": [],
   "source": [
    "# 1 - the function name changed but the hash is the same\n",
    "# 2 - the function name changed and the hash is different\n",
    "# 3 - the function name is the same and the hash is different\n",
    "# 4 - the function name is the same and the hash is the same"
   ]
  },
  {
   "cell_type": "code",
   "execution_count": null,
   "metadata": {},
   "outputs": [],
   "source": []
  },
  {
   "cell_type": "code",
   "execution_count": 21,
   "metadata": {},
   "outputs": [],
   "source": [
    "import json\n",
    "import uuid\n",
    "\n",
    "ID_FILE = \"snapper_ids.json\"\n",
    "\n",
    "# Load ID mappings from a file\n",
    "def load_id_map():\n",
    "    try:\n",
    "        with open(ID_FILE, \"r\") as f:\n",
    "            return json.load(f)\n",
    "    except FileNotFoundError:\n",
    "        return {}\n",
    "\n",
    "# Save ID mappings to a file\n",
    "def save_id_map(id_map):\n",
    "    with open(ID_FILE, \"w\") as f:\n",
    "        json.dump(id_map, f)\n",
    "\n",
    "# Decorator function to automatically assign a unique ID to each function\n",
    "def snapper():\n",
    "    def decorator(func):\n",
    "        id_map = load_id_map()\n",
    "\n",
    "        # If the function has been wrapped before, reuse its ID\n",
    "        if func.__name__ in id_map:\n",
    "            unique_id = id_map[func.__name__]\n",
    "        else:\n",
    "            # Generate a new ID for a new function\n",
    "            unique_id = str(uuid.uuid4())\n",
    "            id_map[func.__name__] = unique_id\n",
    "            save_id_map(id_map)  # Save the updated mapping\n",
    "\n",
    "        # Assign the ID to the function (or Snapper instance)\n",
    "        func._snapper_id = unique_id\n",
    "\n",
    "        # Wrap the function as needed here\n",
    "        def wrapper(*args, **kwargs):\n",
    "            print(f\"Function {func.__name__} has ID: {func._snapper_id}\")\n",
    "            return func(*args, **kwargs)\n",
    "\n",
    "        return wrapper\n",
    "\n",
    "    return decorator\n",
    "\n"
   ]
  },
  {
   "cell_type": "code",
   "execution_count": 35,
   "metadata": {},
   "outputs": [],
   "source": [
    "\n",
    "# Example usage\n",
    "@snapper()\n",
    "def func3(x, y, z):\n",
    "    return x + y + z\n"
   ]
  },
  {
   "cell_type": "code",
   "execution_count": 36,
   "metadata": {},
   "outputs": [
    {
     "name": "stdout",
     "output_type": "stream",
     "text": [
      "Function func3 has ID: a3d671bc-ede7-4653-914a-5f41df6b2b64\n"
     ]
    },
    {
     "data": {
      "text/plain": [
       "6"
      ]
     },
     "execution_count": 36,
     "metadata": {},
     "output_type": "execute_result"
    }
   ],
   "source": [
    "\n",
    "# Run functions to see the ID assignment\n",
    "func3(1, 2, 3)  # This should print the ID for func1"
   ]
  },
  {
   "cell_type": "code",
   "execution_count": 24,
   "metadata": {},
   "outputs": [
    {
     "name": "stdout",
     "output_type": "stream",
     "text": [
      "Function func1 has ID: fe79bafc-1880-4ff8-8c24-9a69973fb80e\n"
     ]
    },
    {
     "data": {
      "text/plain": [
       "3"
      ]
     },
     "execution_count": 24,
     "metadata": {},
     "output_type": "execute_result"
    }
   ],
   "source": [
    "\n"
   ]
  },
  {
   "cell_type": "code",
   "execution_count": 25,
   "metadata": {},
   "outputs": [
    {
     "name": "stdout",
     "output_type": "stream",
     "text": [
      "Function func2 has ID: d543b916-a0a7-49e9-b2d1-a859aec8f11e\n"
     ]
    },
    {
     "data": {
      "text/plain": [
       "12"
      ]
     },
     "execution_count": 25,
     "metadata": {},
     "output_type": "execute_result"
    }
   ],
   "source": [
    "\n",
    "func2(3, 4)  # This should print the same ID if it's logically the same function\n"
   ]
  },
  {
   "cell_type": "code",
   "execution_count": 57,
   "metadata": {},
   "outputs": [],
   "source": [
    "a = set([1,3,2, 8]) \n",
    "b = set([1,2,3, 7])"
   ]
  },
  {
   "cell_type": "code",
   "execution_count": 59,
   "metadata": {},
   "outputs": [
    {
     "data": {
      "text/plain": [
       "({8}, {7})"
      ]
     },
     "execution_count": 59,
     "metadata": {},
     "output_type": "execute_result"
    }
   ],
   "source": [
    "# diff between a and b what's in a that's not in b and what's in b that's not in a\n",
    "a.difference(b), b.difference(a)"
   ]
  },
  {
   "cell_type": "code",
   "execution_count": 63,
   "metadata": {},
   "outputs": [],
   "source": [
    "df = pd.DataFrame({'a': [1, 2, 3, ], 'b': [4, 5, 6, ], 'string': ['a', 'b', 'c']})\n",
    "df2 = df = pd.DataFrame({'a': [1, 2, 3, ], 'b': ['4', '5', '6'], 'string': ['a', 'b', 'c']})"
   ]
  },
  {
   "cell_type": "code",
   "execution_count": 64,
   "metadata": {},
   "outputs": [],
   "source": [
    "aa = df.dtypes.to_dict()\n",
    "bb = df2.dtypes.to_dict()"
   ]
  },
  {
   "cell_type": "code",
   "execution_count": 65,
   "metadata": {},
   "outputs": [
    {
     "data": {
      "text/plain": [
       "{}"
      ]
     },
     "execution_count": 65,
     "metadata": {},
     "output_type": "execute_result"
    }
   ],
   "source": [
    "DeepDiff(aa, bb)"
   ]
  },
  {
   "cell_type": "code",
   "execution_count": 91,
   "metadata": {},
   "outputs": [],
   "source": [
    "\n",
    "\n",
    "class compareDataFrames(BaseOperator):\n",
    "    def __init__(self, shallow_diff=True):\n",
    "        self.shallow_diff = shallow_diff\n",
    "    \n",
    "    def match(self, level):\n",
    "        # Only match when both objects are DataFrames\n",
    "        return (\n",
    "            level.t1.__class__.__name__ == \"DataFrame\"\n",
    "            and level.t2.__class__.__name__ == \"DataFrame\"\n",
    "        )\n",
    "\n",
    "    def shalow_diff(self, level):\n",
    "        diff_shape = False\n",
    "        \n",
    "        shadow_diff = {}\n",
    "        if level.t1.shape != level.t2.shape:\n",
    "            shadow_diff[\"shape\"] = {\n",
    "                    \"old_value\": level.t1.shape,\n",
    "                    \"new_value\": level.t2.shape,\n",
    "                }\n",
    "            diff_shape = True\n",
    "            \n",
    "        old_cols = set(level.t1.columns)\n",
    "        new_cols = set(level.t2.columns)\n",
    "        if old_cols != new_cols:\n",
    "            shadow_diff[\"columns\"] = {\n",
    "                    \"columns in old df not in new\": old_cols - new_cols,\n",
    "                    \"columns in new df not in old\": new_cols - old_cols,\n",
    "                }\n",
    "\n",
    "        old_types_dict = level.t1.dtypes.to_dict()\n",
    "        new_types_dict = level.t2.dtypes.to_dict()\n",
    "        types_diff = {}\n",
    "        for col in old_cols.intersection(new_cols):\n",
    "            if old_types_dict[col] != new_types_dict[col]:\n",
    "                types_diff[col] = {\n",
    "                    \"old_value\": old_types_dict[col],\n",
    "                    \"new_value\": new_types_dict[col],\n",
    "                }\n",
    "        if types_diff:\n",
    "            shadow_diff[\"column_types\"] = types_diff\n",
    "        \n",
    "        if not diff_shape:\n",
    "            # index changed\n",
    "            if not level.t1.index.equals(level.t2.index):\n",
    "                shadow_diff[\"index\"] = 'index changed'\n",
    "        \n",
    "        return shadow_diff\n",
    "        \n",
    "    def give_up_diffing(self, level, diff_instance):\n",
    "        if self.shallow_diff:\n",
    "            diff = self.shalow_diff(level)\n",
    "            if diff:\n",
    "                diff_instance.custom_report_result(\"DataFrame_difference\", level, diff)\n",
    "                return True\n",
    "        return False\n",
    "        "
   ]
  },
  {
   "cell_type": "code",
   "execution_count": 92,
   "metadata": {},
   "outputs": [
    {
     "data": {
      "text/html": [
       "<div>\n",
       "<style scoped>\n",
       "    .dataframe tbody tr th:only-of-type {\n",
       "        vertical-align: middle;\n",
       "    }\n",
       "\n",
       "    .dataframe tbody tr th {\n",
       "        vertical-align: top;\n",
       "    }\n",
       "\n",
       "    .dataframe thead th {\n",
       "        text-align: right;\n",
       "    }\n",
       "</style>\n",
       "<table border=\"1\" class=\"dataframe\">\n",
       "  <thead>\n",
       "    <tr style=\"text-align: right;\">\n",
       "      <th></th>\n",
       "      <th>a</th>\n",
       "      <th>b</th>\n",
       "      <th>string</th>\n",
       "    </tr>\n",
       "  </thead>\n",
       "  <tbody>\n",
       "    <tr>\n",
       "      <th>0</th>\n",
       "      <td>1</td>\n",
       "      <td>4</td>\n",
       "      <td>a</td>\n",
       "    </tr>\n",
       "    <tr>\n",
       "      <th>1</th>\n",
       "      <td>2</td>\n",
       "      <td>5</td>\n",
       "      <td>b</td>\n",
       "    </tr>\n",
       "    <tr>\n",
       "      <th>2</th>\n",
       "      <td>3</td>\n",
       "      <td>6</td>\n",
       "      <td>c</td>\n",
       "    </tr>\n",
       "  </tbody>\n",
       "</table>\n",
       "</div>"
      ],
      "text/plain": [
       "   a  b string\n",
       "0  1  4      a\n",
       "1  2  5      b\n",
       "2  3  6      c"
      ]
     },
     "execution_count": 92,
     "metadata": {},
     "output_type": "execute_result"
    }
   ],
   "source": [
    "df2"
   ]
  },
  {
   "cell_type": "code",
   "execution_count": 106,
   "metadata": {},
   "outputs": [
    {
     "name": "stderr",
     "output_type": "stream",
     "text": [
      "/tmp/ipykernel_650357/2091944754.py:1: SettingWithCopyWarning: \n",
      "A value is trying to be set on a copy of a slice from a DataFrame\n",
      "\n",
      "See the caveats in the documentation: https://pandas.pydata.org/pandas-docs/stable/user_guide/indexing.html#returning-a-view-versus-a-copy\n",
      "  df['a'][1] = 15\n"
     ]
    }
   ],
   "source": [
    "df['a'][1] = 15"
   ]
  },
  {
   "cell_type": "code",
   "execution_count": 120,
   "metadata": {},
   "outputs": [
    {
     "name": "stderr",
     "output_type": "stream",
     "text": [
      "/tmp/ipykernel_650357/3442965289.py:1: FutureWarning: ChainedAssignmentError: behaviour will change in pandas 3.0!\n",
      "You are setting values through chained assignment. Currently this works in certain cases, but when using Copy-on-Write (which will become the default behaviour in pandas 3.0) this will never work to update the original DataFrame or Series, because the intermediate object on which we are setting values will behave as a copy.\n",
      "A typical example is when you are setting values in a column of a DataFrame, like:\n",
      "\n",
      "df[\"col\"][row_indexer] = value\n",
      "\n",
      "Use `df.loc[row_indexer, \"col\"] = values` instead, to perform the assignment in a single step and ensure this keeps updating the original `df`.\n",
      "\n",
      "See the caveats in the documentation: https://pandas.pydata.org/pandas-docs/stable/user_guide/indexing.html#returning-a-view-versus-a-copy\n",
      "\n",
      "  df['string'][2] = 'asdf'\n",
      "/tmp/ipykernel_650357/3442965289.py:1: SettingWithCopyWarning: \n",
      "A value is trying to be set on a copy of a slice from a DataFrame\n",
      "\n",
      "See the caveats in the documentation: https://pandas.pydata.org/pandas-docs/stable/user_guide/indexing.html#returning-a-view-versus-a-copy\n",
      "  df['string'][2] = 'asdf'\n"
     ]
    }
   ],
   "source": [
    "df['string'][2] = 'asdf'"
   ]
  },
  {
   "cell_type": "code",
   "execution_count": 114,
   "metadata": {},
   "outputs": [],
   "source": [
    "df2 = df.copy()"
   ]
  },
  {
   "cell_type": "code",
   "execution_count": 117,
   "metadata": {},
   "outputs": [
    {
     "data": {
      "text/html": [
       "<div>\n",
       "<style scoped>\n",
       "    .dataframe tbody tr th:only-of-type {\n",
       "        vertical-align: middle;\n",
       "    }\n",
       "\n",
       "    .dataframe tbody tr th {\n",
       "        vertical-align: top;\n",
       "    }\n",
       "\n",
       "    .dataframe thead th {\n",
       "        text-align: right;\n",
       "    }\n",
       "</style>\n",
       "<table border=\"1\" class=\"dataframe\">\n",
       "  <thead>\n",
       "    <tr style=\"text-align: right;\">\n",
       "      <th></th>\n",
       "      <th>a</th>\n",
       "      <th>b</th>\n",
       "      <th>string</th>\n",
       "    </tr>\n",
       "  </thead>\n",
       "  <tbody>\n",
       "    <tr>\n",
       "      <th>0</th>\n",
       "      <td>1</td>\n",
       "      <td>4</td>\n",
       "      <td>a</td>\n",
       "    </tr>\n",
       "    <tr>\n",
       "      <th>1</th>\n",
       "      <td>15</td>\n",
       "      <td>5</td>\n",
       "      <td>b</td>\n",
       "    </tr>\n",
       "    <tr>\n",
       "      <th>2</th>\n",
       "      <td>3</td>\n",
       "      <td>6</td>\n",
       "      <td>c</td>\n",
       "    </tr>\n",
       "  </tbody>\n",
       "</table>\n",
       "</div>"
      ],
      "text/plain": [
       "    a  b string\n",
       "0   1  4      a\n",
       "1  15  5      b\n",
       "2   3  6      c"
      ]
     },
     "execution_count": 117,
     "metadata": {},
     "output_type": "execute_result"
    }
   ],
   "source": [
    "df"
   ]
  },
  {
   "cell_type": "code",
   "execution_count": 121,
   "metadata": {},
   "outputs": [
    {
     "data": {
      "text/html": [
       "<div>\n",
       "<style scoped>\n",
       "    .dataframe tbody tr th:only-of-type {\n",
       "        vertical-align: middle;\n",
       "    }\n",
       "\n",
       "    .dataframe tbody tr th {\n",
       "        vertical-align: top;\n",
       "    }\n",
       "\n",
       "    .dataframe thead tr th {\n",
       "        text-align: left;\n",
       "    }\n",
       "</style>\n",
       "<table border=\"1\" class=\"dataframe\">\n",
       "  <thead>\n",
       "    <tr>\n",
       "      <th></th>\n",
       "      <th colspan=\"2\" halign=\"left\">a</th>\n",
       "      <th colspan=\"2\" halign=\"left\">string</th>\n",
       "    </tr>\n",
       "    <tr>\n",
       "      <th></th>\n",
       "      <th>self</th>\n",
       "      <th>other</th>\n",
       "      <th>self</th>\n",
       "      <th>other</th>\n",
       "    </tr>\n",
       "  </thead>\n",
       "  <tbody>\n",
       "    <tr>\n",
       "      <th>1</th>\n",
       "      <td>15.0</td>\n",
       "      <td>16.0</td>\n",
       "      <td>NaN</td>\n",
       "      <td>NaN</td>\n",
       "    </tr>\n",
       "    <tr>\n",
       "      <th>2</th>\n",
       "      <td>NaN</td>\n",
       "      <td>NaN</td>\n",
       "      <td>asdf</td>\n",
       "      <td>c</td>\n",
       "    </tr>\n",
       "  </tbody>\n",
       "</table>\n",
       "</div>"
      ],
      "text/plain": [
       "      a       string      \n",
       "   self other   self other\n",
       "1  15.0  16.0    NaN   NaN\n",
       "2   NaN   NaN   asdf     c"
      ]
     },
     "execution_count": 121,
     "metadata": {},
     "output_type": "execute_result"
    }
   ],
   "source": [
    "df.compare(df2)"
   ]
  },
  {
   "cell_type": "code",
   "execution_count": 122,
   "metadata": {},
   "outputs": [
    {
     "data": {
      "text/plain": [
       "{'values_changed': {'root[2]': {'new_value': 9, 'old_value': 7}},\n",
       " 'DataFrame_difference': {'root[0]': {'shape': {'old_value': (3, 2),\n",
       "    'new_value': (3, 3)},\n",
       "   'columns': {'columns in old df not in new': {'A', 'B'},\n",
       "    'columns in new df not in old': {'a', 'b', 'string'}}}}}"
      ]
     },
     "execution_count": 122,
     "metadata": {},
     "output_type": "execute_result"
    }
   ],
   "source": [
    "df_operator = compareDataFrames(shallow_diff=True)\n",
    "\n",
    "DeepDiff(\n",
    "    [df1, 5, 7],\n",
    "    [df2, 5, 9],\n",
    "    custom_operators=[df_operator]\n",
    ")"
   ]
  },
  {
   "cell_type": "code",
   "execution_count": 123,
   "metadata": {},
   "outputs": [
    {
     "data": {
      "text/plain": [
       "pandas.core.series.Series"
      ]
     },
     "execution_count": 123,
     "metadata": {},
     "output_type": "execute_result"
    }
   ],
   "source": []
  },
  {
   "cell_type": "code",
   "execution_count": 125,
   "metadata": {},
   "outputs": [],
   "source": [
    "from sklearn.pipeline import Pipeline\n",
    "from sklearn.preprocessing import StandardScaler\n",
    "from sklearn.decomposition import PCA\n",
    "from sklearn.svm import SVC\n",
    "\n",
    "classification_pipeline = Pipeline([\n",
    "    ('scaler', StandardScaler()),\n",
    "    ('pca', PCA(n_components=2)),  # Reducing to 2 principal components for simplicity\n",
    "    ('svc', SVC(kernel='linear', C=1.0, random_state=42))\n",
    "])\n"
   ]
  },
  {
   "cell_type": "code",
   "execution_count": 131,
   "metadata": {},
   "outputs": [],
   "source": [
    "from sklearn.pipeline import Pipeline\n",
    "from sklearn.preprocessing import StandardScaler, PolynomialFeatures\n",
    "from sklearn.linear_model import Ridge\n",
    "\n",
    "regression_pipeline1 = Pipeline([\n",
    "    ('poly_features', PolynomialFeatures(degree=2, include_bias=False)),\n",
    "    ('scaler', StandardScaler()),\n",
    "    ('ridge', Ridge(alpha=1.0))\n",
    "])\n",
    "\n",
    "regression_pipeline2 = Pipeline([\n",
    "    ('poly_features', PolynomialFeatures(degree=2, include_bias=False)),\n",
    "    ('scaler', StandardScaler()),\n",
    "    ('ridge', Ridge(alpha=0.9))\n",
    "])\n"
   ]
  },
  {
   "cell_type": "code",
   "execution_count": 132,
   "metadata": {},
   "outputs": [
    {
     "data": {
      "text/plain": [
       "{'values_changed': {'root[2][1].alpha': {'new_value': 0.9, 'old_value': 1.0}},\n",
       " 'unprocessed': ['root[0][1]: PolynomialFeatures(include_bias=False) and PolynomialFeatures(include_bias=False)']}"
      ]
     },
     "execution_count": 132,
     "metadata": {},
     "output_type": "execute_result"
    }
   ],
   "source": [
    "DeepDiff(regression_pipeline1.steps, regression_pipeline2.steps)"
   ]
  },
  {
   "cell_type": "code",
   "execution_count": 133,
   "metadata": {},
   "outputs": [
    {
     "name": "stdout",
     "output_type": "stream",
     "text": [
      "{'values_changed': {\"root['ridge'].alpha\": {'new_value': 0.9, 'old_value': 1.0}}, 'unprocessed': [\"root['poly_features']: PolynomialFeatures(include_bias=False) and PolynomialFeatures(include_bias=False)\"]}\n"
     ]
    }
   ],
   "source": [
    "from sklearn.pipeline import Pipeline\n",
    "from sklearn.preprocessing import PolynomialFeatures, StandardScaler\n",
    "from sklearn.linear_model import Ridge\n",
    "\n",
    "# Create regression pipelines with different configurations\n",
    "regression_pipeline1 = Pipeline(steps=[\n",
    "    ('poly_features', PolynomialFeatures(degree=2, include_bias=False)),\n",
    "    ('scaler', StandardScaler()),\n",
    "    ('ridge', Ridge(alpha=1.0))\n",
    "])\n",
    "\n",
    "regression_pipeline2 = Pipeline(steps=[\n",
    "    ('poly_features', PolynomialFeatures(degree=2, include_bias=False)),\n",
    "    ('scaler', StandardScaler()),\n",
    "    ('ridge', Ridge(alpha=0.9))\n",
    "])\n",
    "\n",
    "# Convert pipeline steps to a dictionary to provide custom keys in DeepDiff\n",
    "pipeline1_dict = {name: step for name, step in regression_pipeline1.steps}\n",
    "pipeline2_dict = {name: step for name, step in regression_pipeline2.steps}\n",
    "\n",
    "# Perform comparison with DeepDiff\n",
    "from deepdiff import DeepDiff\n",
    "diff = DeepDiff(pipeline1_dict, pipeline2_dict)\n",
    "print(diff)\n"
   ]
  },
  {
   "cell_type": "code",
   "execution_count": 139,
   "metadata": {},
   "outputs": [
    {
     "data": {
      "text/plain": [
       "sklearn.preprocessing._polynomial.PolynomialFeatures"
      ]
     },
     "execution_count": 139,
     "metadata": {},
     "output_type": "execute_result"
    }
   ],
   "source": [
    "type(PolynomialFeatures())"
   ]
  },
  {
   "cell_type": "code",
   "execution_count": 140,
   "metadata": {},
   "outputs": [
    {
     "data": {
      "text/plain": [
       "sklearn.linear_model._ridge.Ridge"
      ]
     },
     "execution_count": 140,
     "metadata": {},
     "output_type": "execute_result"
    }
   ],
   "source": [
    "type(Ridge())"
   ]
  },
  {
   "cell_type": "code",
   "execution_count": 142,
   "metadata": {},
   "outputs": [],
   "source": [
    "#  make classificaiton pipeline\n",
    "from sklearn.pipeline import Pipeline\n",
    "from sklearn.preprocessing import StandardScaler\n",
    "from sklearn.decomposition import PCA\n",
    "from sklearn.datasets import make_classification"
   ]
  },
  {
   "cell_type": "code",
   "execution_count": 143,
   "metadata": {},
   "outputs": [
    {
     "data": {
      "text/html": [
       "<style>#sk-container-id-2 {\n",
       "  /* Definition of color scheme common for light and dark mode */\n",
       "  --sklearn-color-text: black;\n",
       "  --sklearn-color-line: gray;\n",
       "  /* Definition of color scheme for unfitted estimators */\n",
       "  --sklearn-color-unfitted-level-0: #fff5e6;\n",
       "  --sklearn-color-unfitted-level-1: #f6e4d2;\n",
       "  --sklearn-color-unfitted-level-2: #ffe0b3;\n",
       "  --sklearn-color-unfitted-level-3: chocolate;\n",
       "  /* Definition of color scheme for fitted estimators */\n",
       "  --sklearn-color-fitted-level-0: #f0f8ff;\n",
       "  --sklearn-color-fitted-level-1: #d4ebff;\n",
       "  --sklearn-color-fitted-level-2: #b3dbfd;\n",
       "  --sklearn-color-fitted-level-3: cornflowerblue;\n",
       "\n",
       "  /* Specific color for light theme */\n",
       "  --sklearn-color-text-on-default-background: var(--sg-text-color, var(--theme-code-foreground, var(--jp-content-font-color1, black)));\n",
       "  --sklearn-color-background: var(--sg-background-color, var(--theme-background, var(--jp-layout-color0, white)));\n",
       "  --sklearn-color-border-box: var(--sg-text-color, var(--theme-code-foreground, var(--jp-content-font-color1, black)));\n",
       "  --sklearn-color-icon: #696969;\n",
       "\n",
       "  @media (prefers-color-scheme: dark) {\n",
       "    /* Redefinition of color scheme for dark theme */\n",
       "    --sklearn-color-text-on-default-background: var(--sg-text-color, var(--theme-code-foreground, var(--jp-content-font-color1, white)));\n",
       "    --sklearn-color-background: var(--sg-background-color, var(--theme-background, var(--jp-layout-color0, #111)));\n",
       "    --sklearn-color-border-box: var(--sg-text-color, var(--theme-code-foreground, var(--jp-content-font-color1, white)));\n",
       "    --sklearn-color-icon: #878787;\n",
       "  }\n",
       "}\n",
       "\n",
       "#sk-container-id-2 {\n",
       "  color: var(--sklearn-color-text);\n",
       "}\n",
       "\n",
       "#sk-container-id-2 pre {\n",
       "  padding: 0;\n",
       "}\n",
       "\n",
       "#sk-container-id-2 input.sk-hidden--visually {\n",
       "  border: 0;\n",
       "  clip: rect(1px 1px 1px 1px);\n",
       "  clip: rect(1px, 1px, 1px, 1px);\n",
       "  height: 1px;\n",
       "  margin: -1px;\n",
       "  overflow: hidden;\n",
       "  padding: 0;\n",
       "  position: absolute;\n",
       "  width: 1px;\n",
       "}\n",
       "\n",
       "#sk-container-id-2 div.sk-dashed-wrapped {\n",
       "  border: 1px dashed var(--sklearn-color-line);\n",
       "  margin: 0 0.4em 0.5em 0.4em;\n",
       "  box-sizing: border-box;\n",
       "  padding-bottom: 0.4em;\n",
       "  background-color: var(--sklearn-color-background);\n",
       "}\n",
       "\n",
       "#sk-container-id-2 div.sk-container {\n",
       "  /* jupyter's `normalize.less` sets `[hidden] { display: none; }`\n",
       "     but bootstrap.min.css set `[hidden] { display: none !important; }`\n",
       "     so we also need the `!important` here to be able to override the\n",
       "     default hidden behavior on the sphinx rendered scikit-learn.org.\n",
       "     See: https://github.com/scikit-learn/scikit-learn/issues/21755 */\n",
       "  display: inline-block !important;\n",
       "  position: relative;\n",
       "}\n",
       "\n",
       "#sk-container-id-2 div.sk-text-repr-fallback {\n",
       "  display: none;\n",
       "}\n",
       "\n",
       "div.sk-parallel-item,\n",
       "div.sk-serial,\n",
       "div.sk-item {\n",
       "  /* draw centered vertical line to link estimators */\n",
       "  background-image: linear-gradient(var(--sklearn-color-text-on-default-background), var(--sklearn-color-text-on-default-background));\n",
       "  background-size: 2px 100%;\n",
       "  background-repeat: no-repeat;\n",
       "  background-position: center center;\n",
       "}\n",
       "\n",
       "/* Parallel-specific style estimator block */\n",
       "\n",
       "#sk-container-id-2 div.sk-parallel-item::after {\n",
       "  content: \"\";\n",
       "  width: 100%;\n",
       "  border-bottom: 2px solid var(--sklearn-color-text-on-default-background);\n",
       "  flex-grow: 1;\n",
       "}\n",
       "\n",
       "#sk-container-id-2 div.sk-parallel {\n",
       "  display: flex;\n",
       "  align-items: stretch;\n",
       "  justify-content: center;\n",
       "  background-color: var(--sklearn-color-background);\n",
       "  position: relative;\n",
       "}\n",
       "\n",
       "#sk-container-id-2 div.sk-parallel-item {\n",
       "  display: flex;\n",
       "  flex-direction: column;\n",
       "}\n",
       "\n",
       "#sk-container-id-2 div.sk-parallel-item:first-child::after {\n",
       "  align-self: flex-end;\n",
       "  width: 50%;\n",
       "}\n",
       "\n",
       "#sk-container-id-2 div.sk-parallel-item:last-child::after {\n",
       "  align-self: flex-start;\n",
       "  width: 50%;\n",
       "}\n",
       "\n",
       "#sk-container-id-2 div.sk-parallel-item:only-child::after {\n",
       "  width: 0;\n",
       "}\n",
       "\n",
       "/* Serial-specific style estimator block */\n",
       "\n",
       "#sk-container-id-2 div.sk-serial {\n",
       "  display: flex;\n",
       "  flex-direction: column;\n",
       "  align-items: center;\n",
       "  background-color: var(--sklearn-color-background);\n",
       "  padding-right: 1em;\n",
       "  padding-left: 1em;\n",
       "}\n",
       "\n",
       "\n",
       "/* Toggleable style: style used for estimator/Pipeline/ColumnTransformer box that is\n",
       "clickable and can be expanded/collapsed.\n",
       "- Pipeline and ColumnTransformer use this feature and define the default style\n",
       "- Estimators will overwrite some part of the style using the `sk-estimator` class\n",
       "*/\n",
       "\n",
       "/* Pipeline and ColumnTransformer style (default) */\n",
       "\n",
       "#sk-container-id-2 div.sk-toggleable {\n",
       "  /* Default theme specific background. It is overwritten whether we have a\n",
       "  specific estimator or a Pipeline/ColumnTransformer */\n",
       "  background-color: var(--sklearn-color-background);\n",
       "}\n",
       "\n",
       "/* Toggleable label */\n",
       "#sk-container-id-2 label.sk-toggleable__label {\n",
       "  cursor: pointer;\n",
       "  display: block;\n",
       "  width: 100%;\n",
       "  margin-bottom: 0;\n",
       "  padding: 0.5em;\n",
       "  box-sizing: border-box;\n",
       "  text-align: center;\n",
       "}\n",
       "\n",
       "#sk-container-id-2 label.sk-toggleable__label-arrow:before {\n",
       "  /* Arrow on the left of the label */\n",
       "  content: \"▸\";\n",
       "  float: left;\n",
       "  margin-right: 0.25em;\n",
       "  color: var(--sklearn-color-icon);\n",
       "}\n",
       "\n",
       "#sk-container-id-2 label.sk-toggleable__label-arrow:hover:before {\n",
       "  color: var(--sklearn-color-text);\n",
       "}\n",
       "\n",
       "/* Toggleable content - dropdown */\n",
       "\n",
       "#sk-container-id-2 div.sk-toggleable__content {\n",
       "  max-height: 0;\n",
       "  max-width: 0;\n",
       "  overflow: hidden;\n",
       "  text-align: left;\n",
       "  /* unfitted */\n",
       "  background-color: var(--sklearn-color-unfitted-level-0);\n",
       "}\n",
       "\n",
       "#sk-container-id-2 div.sk-toggleable__content.fitted {\n",
       "  /* fitted */\n",
       "  background-color: var(--sklearn-color-fitted-level-0);\n",
       "}\n",
       "\n",
       "#sk-container-id-2 div.sk-toggleable__content pre {\n",
       "  margin: 0.2em;\n",
       "  border-radius: 0.25em;\n",
       "  color: var(--sklearn-color-text);\n",
       "  /* unfitted */\n",
       "  background-color: var(--sklearn-color-unfitted-level-0);\n",
       "}\n",
       "\n",
       "#sk-container-id-2 div.sk-toggleable__content.fitted pre {\n",
       "  /* unfitted */\n",
       "  background-color: var(--sklearn-color-fitted-level-0);\n",
       "}\n",
       "\n",
       "#sk-container-id-2 input.sk-toggleable__control:checked~div.sk-toggleable__content {\n",
       "  /* Expand drop-down */\n",
       "  max-height: 200px;\n",
       "  max-width: 100%;\n",
       "  overflow: auto;\n",
       "}\n",
       "\n",
       "#sk-container-id-2 input.sk-toggleable__control:checked~label.sk-toggleable__label-arrow:before {\n",
       "  content: \"▾\";\n",
       "}\n",
       "\n",
       "/* Pipeline/ColumnTransformer-specific style */\n",
       "\n",
       "#sk-container-id-2 div.sk-label input.sk-toggleable__control:checked~label.sk-toggleable__label {\n",
       "  color: var(--sklearn-color-text);\n",
       "  background-color: var(--sklearn-color-unfitted-level-2);\n",
       "}\n",
       "\n",
       "#sk-container-id-2 div.sk-label.fitted input.sk-toggleable__control:checked~label.sk-toggleable__label {\n",
       "  background-color: var(--sklearn-color-fitted-level-2);\n",
       "}\n",
       "\n",
       "/* Estimator-specific style */\n",
       "\n",
       "/* Colorize estimator box */\n",
       "#sk-container-id-2 div.sk-estimator input.sk-toggleable__control:checked~label.sk-toggleable__label {\n",
       "  /* unfitted */\n",
       "  background-color: var(--sklearn-color-unfitted-level-2);\n",
       "}\n",
       "\n",
       "#sk-container-id-2 div.sk-estimator.fitted input.sk-toggleable__control:checked~label.sk-toggleable__label {\n",
       "  /* fitted */\n",
       "  background-color: var(--sklearn-color-fitted-level-2);\n",
       "}\n",
       "\n",
       "#sk-container-id-2 div.sk-label label.sk-toggleable__label,\n",
       "#sk-container-id-2 div.sk-label label {\n",
       "  /* The background is the default theme color */\n",
       "  color: var(--sklearn-color-text-on-default-background);\n",
       "}\n",
       "\n",
       "/* On hover, darken the color of the background */\n",
       "#sk-container-id-2 div.sk-label:hover label.sk-toggleable__label {\n",
       "  color: var(--sklearn-color-text);\n",
       "  background-color: var(--sklearn-color-unfitted-level-2);\n",
       "}\n",
       "\n",
       "/* Label box, darken color on hover, fitted */\n",
       "#sk-container-id-2 div.sk-label.fitted:hover label.sk-toggleable__label.fitted {\n",
       "  color: var(--sklearn-color-text);\n",
       "  background-color: var(--sklearn-color-fitted-level-2);\n",
       "}\n",
       "\n",
       "/* Estimator label */\n",
       "\n",
       "#sk-container-id-2 div.sk-label label {\n",
       "  font-family: monospace;\n",
       "  font-weight: bold;\n",
       "  display: inline-block;\n",
       "  line-height: 1.2em;\n",
       "}\n",
       "\n",
       "#sk-container-id-2 div.sk-label-container {\n",
       "  text-align: center;\n",
       "}\n",
       "\n",
       "/* Estimator-specific */\n",
       "#sk-container-id-2 div.sk-estimator {\n",
       "  font-family: monospace;\n",
       "  border: 1px dotted var(--sklearn-color-border-box);\n",
       "  border-radius: 0.25em;\n",
       "  box-sizing: border-box;\n",
       "  margin-bottom: 0.5em;\n",
       "  /* unfitted */\n",
       "  background-color: var(--sklearn-color-unfitted-level-0);\n",
       "}\n",
       "\n",
       "#sk-container-id-2 div.sk-estimator.fitted {\n",
       "  /* fitted */\n",
       "  background-color: var(--sklearn-color-fitted-level-0);\n",
       "}\n",
       "\n",
       "/* on hover */\n",
       "#sk-container-id-2 div.sk-estimator:hover {\n",
       "  /* unfitted */\n",
       "  background-color: var(--sklearn-color-unfitted-level-2);\n",
       "}\n",
       "\n",
       "#sk-container-id-2 div.sk-estimator.fitted:hover {\n",
       "  /* fitted */\n",
       "  background-color: var(--sklearn-color-fitted-level-2);\n",
       "}\n",
       "\n",
       "/* Specification for estimator info (e.g. \"i\" and \"?\") */\n",
       "\n",
       "/* Common style for \"i\" and \"?\" */\n",
       "\n",
       ".sk-estimator-doc-link,\n",
       "a:link.sk-estimator-doc-link,\n",
       "a:visited.sk-estimator-doc-link {\n",
       "  float: right;\n",
       "  font-size: smaller;\n",
       "  line-height: 1em;\n",
       "  font-family: monospace;\n",
       "  background-color: var(--sklearn-color-background);\n",
       "  border-radius: 1em;\n",
       "  height: 1em;\n",
       "  width: 1em;\n",
       "  text-decoration: none !important;\n",
       "  margin-left: 1ex;\n",
       "  /* unfitted */\n",
       "  border: var(--sklearn-color-unfitted-level-1) 1pt solid;\n",
       "  color: var(--sklearn-color-unfitted-level-1);\n",
       "}\n",
       "\n",
       ".sk-estimator-doc-link.fitted,\n",
       "a:link.sk-estimator-doc-link.fitted,\n",
       "a:visited.sk-estimator-doc-link.fitted {\n",
       "  /* fitted */\n",
       "  border: var(--sklearn-color-fitted-level-1) 1pt solid;\n",
       "  color: var(--sklearn-color-fitted-level-1);\n",
       "}\n",
       "\n",
       "/* On hover */\n",
       "div.sk-estimator:hover .sk-estimator-doc-link:hover,\n",
       ".sk-estimator-doc-link:hover,\n",
       "div.sk-label-container:hover .sk-estimator-doc-link:hover,\n",
       ".sk-estimator-doc-link:hover {\n",
       "  /* unfitted */\n",
       "  background-color: var(--sklearn-color-unfitted-level-3);\n",
       "  color: var(--sklearn-color-background);\n",
       "  text-decoration: none;\n",
       "}\n",
       "\n",
       "div.sk-estimator.fitted:hover .sk-estimator-doc-link.fitted:hover,\n",
       ".sk-estimator-doc-link.fitted:hover,\n",
       "div.sk-label-container:hover .sk-estimator-doc-link.fitted:hover,\n",
       ".sk-estimator-doc-link.fitted:hover {\n",
       "  /* fitted */\n",
       "  background-color: var(--sklearn-color-fitted-level-3);\n",
       "  color: var(--sklearn-color-background);\n",
       "  text-decoration: none;\n",
       "}\n",
       "\n",
       "/* Span, style for the box shown on hovering the info icon */\n",
       ".sk-estimator-doc-link span {\n",
       "  display: none;\n",
       "  z-index: 9999;\n",
       "  position: relative;\n",
       "  font-weight: normal;\n",
       "  right: .2ex;\n",
       "  padding: .5ex;\n",
       "  margin: .5ex;\n",
       "  width: min-content;\n",
       "  min-width: 20ex;\n",
       "  max-width: 50ex;\n",
       "  color: var(--sklearn-color-text);\n",
       "  box-shadow: 2pt 2pt 4pt #999;\n",
       "  /* unfitted */\n",
       "  background: var(--sklearn-color-unfitted-level-0);\n",
       "  border: .5pt solid var(--sklearn-color-unfitted-level-3);\n",
       "}\n",
       "\n",
       ".sk-estimator-doc-link.fitted span {\n",
       "  /* fitted */\n",
       "  background: var(--sklearn-color-fitted-level-0);\n",
       "  border: var(--sklearn-color-fitted-level-3);\n",
       "}\n",
       "\n",
       ".sk-estimator-doc-link:hover span {\n",
       "  display: block;\n",
       "}\n",
       "\n",
       "/* \"?\"-specific style due to the `<a>` HTML tag */\n",
       "\n",
       "#sk-container-id-2 a.estimator_doc_link {\n",
       "  float: right;\n",
       "  font-size: 1rem;\n",
       "  line-height: 1em;\n",
       "  font-family: monospace;\n",
       "  background-color: var(--sklearn-color-background);\n",
       "  border-radius: 1rem;\n",
       "  height: 1rem;\n",
       "  width: 1rem;\n",
       "  text-decoration: none;\n",
       "  /* unfitted */\n",
       "  color: var(--sklearn-color-unfitted-level-1);\n",
       "  border: var(--sklearn-color-unfitted-level-1) 1pt solid;\n",
       "}\n",
       "\n",
       "#sk-container-id-2 a.estimator_doc_link.fitted {\n",
       "  /* fitted */\n",
       "  border: var(--sklearn-color-fitted-level-1) 1pt solid;\n",
       "  color: var(--sklearn-color-fitted-level-1);\n",
       "}\n",
       "\n",
       "/* On hover */\n",
       "#sk-container-id-2 a.estimator_doc_link:hover {\n",
       "  /* unfitted */\n",
       "  background-color: var(--sklearn-color-unfitted-level-3);\n",
       "  color: var(--sklearn-color-background);\n",
       "  text-decoration: none;\n",
       "}\n",
       "\n",
       "#sk-container-id-2 a.estimator_doc_link.fitted:hover {\n",
       "  /* fitted */\n",
       "  background-color: var(--sklearn-color-fitted-level-3);\n",
       "}\n",
       "</style><div id=\"sk-container-id-2\" class=\"sk-top-container\"><div class=\"sk-text-repr-fallback\"><pre>Pipeline(steps=[(&#x27;scaler&#x27;, StandardScaler()), (&#x27;pca&#x27;, PCA(n_components=2)),\n",
       "                (&#x27;svc&#x27;, SVC(kernel=&#x27;linear&#x27;, random_state=42))])</pre><b>In a Jupyter environment, please rerun this cell to show the HTML representation or trust the notebook. <br />On GitHub, the HTML representation is unable to render, please try loading this page with nbviewer.org.</b></div><div class=\"sk-container\" hidden><div class=\"sk-item sk-dashed-wrapped\"><div class=\"sk-label-container\"><div class=\"sk-label fitted sk-toggleable\"><input class=\"sk-toggleable__control sk-hidden--visually\" id=\"sk-estimator-id-2\" type=\"checkbox\" ><label for=\"sk-estimator-id-2\" class=\"sk-toggleable__label fitted sk-toggleable__label-arrow fitted\">&nbsp;&nbsp;Pipeline<a class=\"sk-estimator-doc-link fitted\" rel=\"noreferrer\" target=\"_blank\" href=\"https://scikit-learn.org/1.5/modules/generated/sklearn.pipeline.Pipeline.html\">?<span>Documentation for Pipeline</span></a><span class=\"sk-estimator-doc-link fitted\">i<span>Fitted</span></span></label><div class=\"sk-toggleable__content fitted\"><pre>Pipeline(steps=[(&#x27;scaler&#x27;, StandardScaler()), (&#x27;pca&#x27;, PCA(n_components=2)),\n",
       "                (&#x27;svc&#x27;, SVC(kernel=&#x27;linear&#x27;, random_state=42))])</pre></div> </div></div><div class=\"sk-serial\"><div class=\"sk-item\"><div class=\"sk-estimator fitted sk-toggleable\"><input class=\"sk-toggleable__control sk-hidden--visually\" id=\"sk-estimator-id-3\" type=\"checkbox\" ><label for=\"sk-estimator-id-3\" class=\"sk-toggleable__label fitted sk-toggleable__label-arrow fitted\">&nbsp;StandardScaler<a class=\"sk-estimator-doc-link fitted\" rel=\"noreferrer\" target=\"_blank\" href=\"https://scikit-learn.org/1.5/modules/generated/sklearn.preprocessing.StandardScaler.html\">?<span>Documentation for StandardScaler</span></a></label><div class=\"sk-toggleable__content fitted\"><pre>StandardScaler()</pre></div> </div></div><div class=\"sk-item\"><div class=\"sk-estimator fitted sk-toggleable\"><input class=\"sk-toggleable__control sk-hidden--visually\" id=\"sk-estimator-id-4\" type=\"checkbox\" ><label for=\"sk-estimator-id-4\" class=\"sk-toggleable__label fitted sk-toggleable__label-arrow fitted\">&nbsp;PCA<a class=\"sk-estimator-doc-link fitted\" rel=\"noreferrer\" target=\"_blank\" href=\"https://scikit-learn.org/1.5/modules/generated/sklearn.decomposition.PCA.html\">?<span>Documentation for PCA</span></a></label><div class=\"sk-toggleable__content fitted\"><pre>PCA(n_components=2)</pre></div> </div></div><div class=\"sk-item\"><div class=\"sk-estimator fitted sk-toggleable\"><input class=\"sk-toggleable__control sk-hidden--visually\" id=\"sk-estimator-id-5\" type=\"checkbox\" ><label for=\"sk-estimator-id-5\" class=\"sk-toggleable__label fitted sk-toggleable__label-arrow fitted\">&nbsp;SVC<a class=\"sk-estimator-doc-link fitted\" rel=\"noreferrer\" target=\"_blank\" href=\"https://scikit-learn.org/1.5/modules/generated/sklearn.svm.SVC.html\">?<span>Documentation for SVC</span></a></label><div class=\"sk-toggleable__content fitted\"><pre>SVC(kernel=&#x27;linear&#x27;, random_state=42)</pre></div> </div></div></div></div></div></div>"
      ],
      "text/plain": [
       "Pipeline(steps=[('scaler', StandardScaler()), ('pca', PCA(n_components=2)),\n",
       "                ('svc', SVC(kernel='linear', random_state=42))])"
      ]
     },
     "execution_count": 143,
     "metadata": {},
     "output_type": "execute_result"
    }
   ],
   "source": [
    "\n",
    "\n",
    "classification_pipeline = Pipeline([\n",
    "    ('scaler', StandardScaler()),\n",
    "    ('pca', PCA(n_components=2)),  # Reducing to 2 principal components for simplicity\n",
    "    ('svc', SVC(kernel='linear', C=1.0, random_state=42))\n",
    "])\n",
    "\n",
    "X, y = make_classification(n_samples=100, n_features=10, n_classes=2, random_state=42)\n",
    "\n",
    "classification_pipeline.fit(X, y)"
   ]
  },
  {
   "cell_type": "code",
   "execution_count": 150,
   "metadata": {},
   "outputs": [
    {
     "data": {
      "text/plain": [
       "{'copy': True,\n",
       " 'iterated_power': 'auto',\n",
       " 'n_components': 2,\n",
       " 'n_oversamples': 10,\n",
       " 'power_iteration_normalizer': 'auto',\n",
       " 'random_state': None,\n",
       " 'svd_solver': 'auto',\n",
       " 'tol': 0.0,\n",
       " 'whiten': False}"
      ]
     },
     "execution_count": 150,
     "metadata": {},
     "output_type": "execute_result"
    }
   ],
   "source": [
    "classification_pipeline.steps[1][1].get_params()"
   ]
  },
  {
   "cell_type": "code",
   "execution_count": 169,
   "metadata": {},
   "outputs": [],
   "source": [
    "from sklearn.pipeline import Pipeline, FeatureUnion\n",
    "\n",
    "from sklearn.pipeline import Pipeline, FeatureUnion\n",
    "from sklearn.compose import ColumnTransformer\n",
    "\n",
    "def get_pipeline_params(pipeline):\n",
    "    def retrieve_params(step, step_name=\"\"):\n",
    "        params_dict = {}\n",
    "        \n",
    "        if isinstance(step, Pipeline):\n",
    "            # Handle standard pipeline\n",
    "            for sub_step_name, sub_step in step.steps:\n",
    "                full_step_name = f\"{step_name}__{sub_step_name}\" if step_name else sub_step_name\n",
    "                params_dict[full_step_name] = retrieve_params(sub_step, full_step_name)\n",
    "                \n",
    "        elif isinstance(step, FeatureUnion):\n",
    "            # Handle FeatureUnion specifically\n",
    "            for sub_step_name, sub_step in step.transformer_list:\n",
    "                full_step_name = f\"{step_name}__{sub_step_name}\" if step_name else sub_step_name\n",
    "                params_dict[full_step_name] = retrieve_params(sub_step, full_step_name)\n",
    "                \n",
    "        elif isinstance(step, ColumnTransformer):\n",
    "            # Handle ColumnTransformer specifically\n",
    "            for sub_step_name, sub_step, _ in step.transformers:\n",
    "                full_step_name = f\"{step_name}__{sub_step_name}\" if step_name else sub_step_name\n",
    "                params_dict[full_step_name] = retrieve_params(sub_step, full_step_name)\n",
    "                \n",
    "        else:\n",
    "            # Handle individual transformers or estimators\n",
    "            params_dict = step.get_params()\n",
    "        \n",
    "        return params_dict\n",
    "\n",
    "    return retrieve_params(pipeline)\n",
    "\n",
    "\n",
    "# Example usage with a nested pipeline\n",
    "from sklearn.linear_model import Ridge\n",
    "from sklearn.preprocessing import StandardScaler, PolynomialFeatures\n",
    "\n",
    "nested_pipeline = Pipeline([\n",
    "    ('preprocessing', FeatureUnion([\n",
    "        ('poly_features', Pipeline([\n",
    "            ('poly', PolynomialFeatures(degree=2, include_bias=False)),\n",
    "            ('scaler', StandardScaler())\n",
    "        ])),\n",
    "        \n",
    "        ('scaler', StandardScaler())\n",
    "    ])),\n",
    "    ('col_transformer', ColumnTransformer([\n",
    "            ('poly_features', PolynomialFeatures(degree=2, include_bias=False), ['feature1', 'feature2']),\n",
    "            ('scaler', StandardScaler(), ['feature3'])\n",
    "        ])),\n",
    "    ('regressor', Ridge(alpha=1.0))\n",
    "])\n",
    "\n",
    "# Retrieve the parameters as a nested dictionary\n",
    "params1 = get_pipeline_params(nested_pipeline)\n",
    "nested_pipeline.steps[0][1].transformer_list[0][1].steps[0][1].include_bias = True\n",
    "params2 = get_pipeline_params(nested_pipeline)\n"
   ]
  },
  {
   "cell_type": "code",
   "execution_count": 170,
   "metadata": {},
   "outputs": [
    {
     "data": {
      "text/plain": [
       "{'values_changed': {\"root['preprocessing']['preprocessing__poly_features']['preprocessing__poly_features__poly']['include_bias']\": {'new_value': True,\n",
       "   'old_value': False}}}"
      ]
     },
     "execution_count": 170,
     "metadata": {},
     "output_type": "execute_result"
    }
   ],
   "source": [
    "DeepDiff(params1, params2)"
   ]
  },
  {
   "cell_type": "code",
   "execution_count": 172,
   "metadata": {},
   "outputs": [
    {
     "data": {
      "text/plain": [
       "sklearn.pipeline.Pipeline"
      ]
     },
     "execution_count": 172,
     "metadata": {},
     "output_type": "execute_result"
    }
   ],
   "source": [
    "type(regression_pipeline1)"
   ]
  },
  {
   "cell_type": "code",
   "execution_count": 1,
   "metadata": {},
   "outputs": [],
   "source": [
    "from snapdiff.invoke_utils import add_decorator_to_functions"
   ]
  },
  {
   "cell_type": "code",
   "execution_count": 2,
   "metadata": {},
   "outputs": [
    {
     "name": "stdout",
     "output_type": "stream",
     "text": [
      "Decorator 'snapper' added to all functions in example.py\n"
     ]
    }
   ],
   "source": [
    "add_decorator_to_functions('example.py', 'snapper', {'mode': 'diff'})"
   ]
  },
  {
   "cell_type": "code",
   "execution_count": 87,
   "metadata": {},
   "outputs": [],
   "source": [
    "file_path = 'example.py'\n"
   ]
  },
  {
   "cell_type": "code",
   "execution_count": 88,
   "metadata": {},
   "outputs": [],
   "source": [
    "\n",
    "\n",
    "with open(file_path, \"r\") as file:\n",
    "    file_content = file.read()\n"
   ]
  },
  {
   "cell_type": "code",
   "execution_count": 89,
   "metadata": {},
   "outputs": [],
   "source": [
    "import ast\n",
    "# Parse the file content into an AST\n",
    "tree = ast.parse(file_content)\n"
   ]
  },
  {
   "cell_type": "code",
   "execution_count": 90,
   "metadata": {},
   "outputs": [],
   "source": [
    "clean = lambda x: [i for i in dir(x) if not i.startswith('_')]"
   ]
  },
  {
   "cell_type": "code",
   "execution_count": 91,
   "metadata": {},
   "outputs": [
    {
     "data": {
      "text/plain": [
       "'snapper'"
      ]
     },
     "execution_count": 91,
     "metadata": {},
     "output_type": "execute_result"
    }
   ],
   "source": [
    "tree.body[0].decorator_list[0].func.id"
   ]
  },
  {
   "cell_type": "code",
   "execution_count": 92,
   "metadata": {},
   "outputs": [
    {
     "data": {
      "text/plain": [
       "['args',\n",
       " 'col_offset',\n",
       " 'end_col_offset',\n",
       " 'end_lineno',\n",
       " 'func',\n",
       " 'keywords',\n",
       " 'lineno']"
      ]
     },
     "execution_count": 92,
     "metadata": {},
     "output_type": "execute_result"
    }
   ],
   "source": [
    "[i for i in dir(tree.body[0].decorator_list[0]) if not i.startswith('_')]"
   ]
  },
  {
   "cell_type": "code",
   "execution_count": 93,
   "metadata": {},
   "outputs": [],
   "source": [
    "decorator_params = {'mode': 'snap'}\n",
    "decorator_name = 'snapper'\n",
    "\n",
    "# Build the decorator string with or without parameters\n",
    "if decorator_params:\n",
    "    params = \"(\"\n",
    "    for key, value in decorator_params.items():\n",
    "        params += f\"\"\"{key}=\"{value}\", \"\"\"\n",
    "    params += \")\"\n",
    "    decorator_with_params = f\"{decorator_name}\" + params\n",
    "else:\n",
    "    raise ValueError(\"Decorator parameters are required\")\n",
    "\n",
    "\n",
    "# Define the decorator node\n",
    "decorator_node = ast.parse(decorator_with_params).body[0].value\n",
    "\n",
    "# Loop through all the nodes in the AST and find function definitions\n",
    "for node in ast.walk(tree):\n",
    "    if isinstance(node, ast.FunctionDef):  # Check if it's a function\n",
    "        # Check if the function already has the decorator if it already has the same decorator then delte the old one and add the new one\n",
    "        for decorator in node.decorator_list:\n",
    "            # print(decorator)\n",
    "            if decorator.func.id == decorator_name:\n",
    "                node.decorator_list.remove(decorator)\n",
    "                break\n",
    "        # Add the decorator to the function\n",
    "        node.decorator_list.append(decorator_node)\n",
    "\n",
    "modified_code = astor.to_source(tree)\n",
    "\n",
    "# Write the modified code back to the file (or you could return it)\n",
    "with open(file_path, \"w\") as file:\n",
    "    file.write(modified_code)\n",
    "\n",
    "print(f\"Decorator '{decorator_name}' added to all functions in {file_path}\")\n"
   ]
  },
  {
   "cell_type": "code",
   "execution_count": 10,
   "metadata": {},
   "outputs": [],
   "source": [
    "from snapdiff.utils import load_snapper_config\n"
   ]
  },
  {
   "cell_type": "code",
   "execution_count": 31,
   "metadata": {},
   "outputs": [],
   "source": [
    "\n"
   ]
  },
  {
   "cell_type": "code",
   "execution_count": 33,
   "metadata": {},
   "outputs": [],
   "source": [
    "res = load_snapper_config('models')"
   ]
  },
  {
   "cell_type": "code",
   "execution_count": 35,
   "metadata": {},
   "outputs": [
    {
     "data": {
      "text/plain": [
       "False"
      ]
     },
     "execution_count": 35,
     "metadata": {},
     "output_type": "execute_result"
    }
   ],
   "source": [
    "res.log_to_file"
   ]
  },
  {
   "cell_type": "code",
   "execution_count": null,
   "metadata": {},
   "outputs": [],
   "source": []
  },
  {
   "cell_type": "code",
   "execution_count": null,
   "metadata": {},
   "outputs": [],
   "source": []
  }
 ],
 "metadata": {
  "kernelspec": {
   "display_name": ".venv",
   "language": "python",
   "name": "python3"
  },
  "language_info": {
   "codemirror_mode": {
    "name": "ipython",
    "version": 3
   },
   "file_extension": ".py",
   "mimetype": "text/x-python",
   "name": "python",
   "nbconvert_exporter": "python",
   "pygments_lexer": "ipython3",
   "version": "3.10.12"
  }
 },
 "nbformat": 4,
 "nbformat_minor": 2
}
