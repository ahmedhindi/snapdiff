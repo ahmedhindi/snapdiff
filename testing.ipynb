{
 "cells": [
  {
   "cell_type": "code",
   "execution_count": 2,
   "metadata": {},
   "outputs": [
    {
     "name": "stdout",
     "output_type": "stream",
     "text": [
      "Added positional arguments : {3}\n",
      "Result has not changed\n"
     ]
    },
    {
     "data": {
      "text/plain": [
       "6"
      ]
     },
     "execution_count": 2,
     "metadata": {},
     "output_type": "execute_result"
    }
   ],
   "source": [
    "from functools import update_wrapper\n",
    "import os\n",
    "import joblib\n",
    "from difflib import Differ\n",
    "\n",
    "\n",
    "class Snapper:\n",
    "    def __init__(self, func, compare_conds=True):\n",
    "        self.func = func\n",
    "        update_wrapper(self, func)\n",
    "        self.compare_conds = compare_conds\n",
    "        self.dump_conds = not compare_conds\n",
    "        self.snap_dir = 'data/snapper/snapshots'\n",
    "        self.func_name = self.func.__name__\n",
    "        self.snap_file = f'{self.snap_dir}/{self.func_name}.pkl'\n",
    "    def dump(self, result, *args, **kwargs, ):\n",
    "        print(f'Dumping snapshot for {self.func_name}')\n",
    "        snap_shot = f'{self.snap_dir}/{self.func_name}.pkl'\n",
    "        joblib.dump((result, args, kwargs), snap_shot)\n",
    "\n",
    "    def load(self):\n",
    "        snap_shot = f'{self.snap_dir}/{self.func_name}.pkl'\n",
    "        if os.path.exists(snap_shot):\n",
    "            return joblib.load(snap_shot)\n",
    "        else:\n",
    "            print(f'No snapshot found for {self.func_name}')\n",
    "            return 0,0,0\n",
    "    \n",
    "    def compare_args(self, args, old_args):\n",
    "        new_args = set(args)\n",
    "        old_args = set(old_args)\n",
    "        added_args = new_args - old_args\n",
    "        removed_args = old_args - new_args\n",
    "        if added_args:\n",
    "            print(f'Added positional arguments : {added_args}')\n",
    "        if removed_args:\n",
    "            print(f'Removed positional arguments: {removed_args}')\n",
    "        for arg, old_arg in zip(args, old_args):\n",
    "            if arg != old_arg:\n",
    "                return False\n",
    "        return True\n",
    "    \n",
    "    def compare_kwargs(self, kwargs, old_kwargs):\n",
    "        new_kws = set(kwargs.keys())\n",
    "        old_kws = set(old_kwargs.keys())\n",
    "        added_kws = new_kws - old_kws\n",
    "        removed_kws = old_kws - new_kws\n",
    "\n",
    "        if added_kws:\n",
    "            print(f'Added keyword arguments : {added_kws}')\n",
    "        \n",
    "        if removed_kws:\n",
    "            print(f'Removed keyword arguments: {removed_kws}')\n",
    "\n",
    "\n",
    "        for key, value in kwargs.items():\n",
    "            if key not in old_kwargs:\n",
    "                return False\n",
    "            else:\n",
    "                if value != old_kwargs[key]:\n",
    "                    return False\n",
    "        return True\n",
    "    \n",
    "    def compare_result(self, result, old_result):\n",
    "        return Differ().compare(result, old_result)\n",
    "\n",
    "    def __call__(self, *args, **kwargs):\n",
    "        result = self.func(*args, **kwargs)\n",
    "        if self.compare_conds:\n",
    "            old_result, old_args, old_kwargs = self.load()\n",
    "            if old_result == 0 and old_args == 0 and old_kwargs == 0:\n",
    "                print('No snapshot found')\n",
    "        \n",
    "        if self.dump_conds:\n",
    "            self.dump(result, *args, **kwargs)\n",
    "        \n",
    "        if self.compare_conds:\n",
    "            if not self.compare_args(args, old_args):\n",
    "                print('Arguments have changed')\n",
    "            if not self.compare_kwargs(kwargs, old_kwargs):\n",
    "                print('Keyword arguments have changed')\n",
    "            if not self.compare_result(result, old_result):\n",
    "                print('Result has changed')\n",
    "            else:\n",
    "                print('Result has not changed')\n",
    "        \n",
    "        return result\n",
    "  \n",
    "        \n",
    "    def __repr__(self):\n",
    "        return self.func.__repr__()\n",
    "\n",
    "\n",
    "def snapper(compare_conds=True):\n",
    "    def decorator(func):\n",
    "        return Snapper(func, compare_conds)\n",
    "    return decorator\n",
    "\n",
    "\n",
    "\n",
    "\n",
    "\n",
    "\n",
    "# Example usage of the Snapper decorator\n",
    "@snapper(compare_conds=True)\n",
    "def example_function(a, b, f):\n",
    "    c = a + b\n",
    "    d = c * 2\n",
    "    return d\n",
    "\n",
    "example_function(1, 2, 3)  # Call the function with arguments\n"
   ]
  },
  {
   "cell_type": "code",
   "execution_count": 4,
   "metadata": {},
   "outputs": [],
   "source": [
    "t1 = {'a': 1, 'b': 2, 'f': 3}\n",
    "t2 = {'a': 1, 'b': 2, 'f': 3}\n"
   ]
  },
  {
   "cell_type": "code",
   "execution_count": 2,
   "metadata": {},
   "outputs": [
    {
     "ename": "ModuleNotFoundError",
     "evalue": "No module named 'pandas'",
     "output_type": "error",
     "traceback": [
      "\u001b[0;31m---------------------------------------------------------------------------\u001b[0m",
      "\u001b[0;31mModuleNotFoundError\u001b[0m                       Traceback (most recent call last)",
      "Cell \u001b[0;32mIn[2], line 1\u001b[0m\n\u001b[0;32m----> 1\u001b[0m \u001b[38;5;28;01mimport\u001b[39;00m \u001b[38;5;21;01mpandas\u001b[39;00m \u001b[38;5;28;01mas\u001b[39;00m \u001b[38;5;21;01mpd\u001b[39;00m\n\u001b[1;32m      2\u001b[0m d1 \u001b[38;5;241m=\u001b[39m {\n\u001b[1;32m      3\u001b[0m     \u001b[38;5;124m'\u001b[39m\u001b[38;5;124ma\u001b[39m\u001b[38;5;124m'\u001b[39m: [\u001b[38;5;241m1\u001b[39m, \u001b[38;5;241m2\u001b[39m, \u001b[38;5;241m3\u001b[39m],\n\u001b[1;32m      4\u001b[0m     \u001b[38;5;124m'\u001b[39m\u001b[38;5;124mb\u001b[39m\u001b[38;5;124m'\u001b[39m: [\u001b[38;5;241m4\u001b[39m, \u001b[38;5;241m5\u001b[39m, \u001b[38;5;241m6\u001b[39m],\n\u001b[1;32m      5\u001b[0m     \u001b[38;5;124m'\u001b[39m\u001b[38;5;124mc\u001b[39m\u001b[38;5;124m'\u001b[39m: [\u001b[38;5;241m7\u001b[39m, \u001b[38;5;241m8\u001b[39m, \u001b[38;5;241m9\u001b[39m]\n\u001b[1;32m      6\u001b[0m }\n\u001b[1;32m      8\u001b[0m d2 \u001b[38;5;241m=\u001b[39m {\n\u001b[1;32m      9\u001b[0m     \u001b[38;5;124m'\u001b[39m\u001b[38;5;124ma\u001b[39m\u001b[38;5;124m'\u001b[39m: [\u001b[38;5;241m1\u001b[39m, \u001b[38;5;241m2\u001b[39m, \u001b[38;5;241m3\u001b[39m],\n\u001b[1;32m     10\u001b[0m     \u001b[38;5;124m'\u001b[39m\u001b[38;5;124mb\u001b[39m\u001b[38;5;124m'\u001b[39m: [\u001b[38;5;241m4\u001b[39m, \u001b[38;5;241m5\u001b[39m, \u001b[38;5;241m6\u001b[39m],\n\u001b[1;32m     11\u001b[0m     \u001b[38;5;124m'\u001b[39m\u001b[38;5;124mc\u001b[39m\u001b[38;5;124m'\u001b[39m: [\u001b[38;5;124m'\u001b[39m\u001b[38;5;124m7\u001b[39m\u001b[38;5;124m'\u001b[39m, \u001b[38;5;124m'\u001b[39m\u001b[38;5;124m8\u001b[39m\u001b[38;5;124m'\u001b[39m, \u001b[38;5;124m'\u001b[39m\u001b[38;5;124m10\u001b[39m\u001b[38;5;124m'\u001b[39m]\n\u001b[1;32m     12\u001b[0m }\n",
      "\u001b[0;31mModuleNotFoundError\u001b[0m: No module named 'pandas'"
     ]
    }
   ],
   "source": [
    "import pandas as pd\n",
    "d1 = {\n",
    "    'a': [1, 2, 3],\n",
    "    'b': [4, 5, 6],\n",
    "    'c': [7, 8, 9]\n",
    "}\n",
    "\n",
    "d2 = {\n",
    "    'a': [1, 2, 3],\n",
    "    'b': [4, 5, 6],\n",
    "    'c': ['7', '8', '10']\n",
    "}\n",
    "df1 = pd.DataFrame(d1)\n",
    "df2 = pd.DataFrame(d2)"
   ]
  },
  {
   "cell_type": "code",
   "execution_count": 5,
   "metadata": {},
   "outputs": [
    {
     "data": {
      "text/plain": [
       "{}"
      ]
     },
     "execution_count": 5,
     "metadata": {},
     "output_type": "execute_result"
    }
   ],
   "source": [
    "\n",
    "from deepdiff import DeepDiff\n",
    "\n",
    "DeepDiff(t1, t2)"
   ]
  },
  {
   "cell_type": "code",
   "execution_count": null,
   "metadata": {},
   "outputs": [],
   "source": []
  }
 ],
 "metadata": {
  "kernelspec": {
   "display_name": ".venv",
   "language": "python",
   "name": "python3"
  },
  "language_info": {
   "codemirror_mode": {
    "name": "ipython",
    "version": 3
   },
   "file_extension": ".py",
   "mimetype": "text/x-python",
   "name": "python",
   "nbconvert_exporter": "python",
   "pygments_lexer": "ipython3",
   "version": "3.11.10"
  }
 },
 "nbformat": 4,
 "nbformat_minor": 2
}
